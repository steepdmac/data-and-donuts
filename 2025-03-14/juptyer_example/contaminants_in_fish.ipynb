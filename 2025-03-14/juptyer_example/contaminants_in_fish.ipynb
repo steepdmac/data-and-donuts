{
 "cells": [
  {
   "cell_type": "markdown",
   "metadata": {
    "tags": []
   },
   "source": [
    "# PFAS in fish\n",
    "The great lake environmental database (GLENDA) contains measurements of PFAS concentrations in fish caught in the great lakes (https://catalog.data.gov/dataset/great-lakes-environmental-database-glenda).\n",
    "Your local directory in jupyter hub contains three files:\n",
    "- contaminants_in_fish.ipynb (juptyer notebook, you are currently working with)\n",
    "- GLENDA_PFAS_IN_FISH_XLSX.xlsx: an excel workbook containing the great lakes monitoring data\n",
    "- GLENDA_PFAS_IN_FISH_CSV.csv (a copy of the 'Composite Results' sheet of the excel workbook)\n",
    "\n",
    "Download the excel workbook 'GLENDA_PFAS_IN_FISH.xlsx' from you local directory on JupyterHub and inspect the data. In the following you will work with the sheets 'Composite Results' and 'Stations'. Also take a quick look at the csv table GLENDA_FISH_IN_CSV.csv - it is an exact copy ot the 'Composite Results' sheet of the excel."
   ]
  },
  {
   "cell_type": "markdown",
   "metadata": {},
   "source": [
    "### Import packages\n",
    "First you will import the package matplotlib for plotting purposes, and the pandas package, which is a python library used for data manipulation and analysis. The code is already in the block, just execute the code cell below."
   ]
  },
  {
   "cell_type": "code",
   "execution_count": 60,
   "metadata": {},
   "outputs": [],
   "source": [
    "import pandas as pd\n",
    "from matplotlib import pyplot as plt"
   ]
  },
  {
   "cell_type": "markdown",
   "metadata": {},
   "source": [
    "### Read in data\n",
    "(1) read in the 'Composite Results' sheet from the GLENDA_PFAS_IN_FISH_XLSX.xlsx file and save it to the variable fish_data_xlsx. Use the read_excel() function from pandas (https://pandas.pydata.org/docs/reference/api/pandas.read_csv.html) and call it with the engine parameter set to 'openpyxl'.\n",
    "(1) read in the GLENDA_PFAS_IN_FISH_CSV.csv file and save it to theread in the csv table whith the read_csv() function from pandas (https://pandas.pydata.org/docs/reference/api/pandas.read_csv.html) and display the table\n"
   ]
  },
  {
   "cell_type": "code",
   "execution_count": 61,
   "metadata": {},
   "outputs": [
    {
     "data": {
      "text/html": [
       "<div>\n",
       "<style scoped>\n",
       "    .dataframe tbody tr th:only-of-type {\n",
       "        vertical-align: middle;\n",
       "    }\n",
       "\n",
       "    .dataframe tbody tr th {\n",
       "        vertical-align: top;\n",
       "    }\n",
       "\n",
       "    .dataframe thead th {\n",
       "        text-align: right;\n",
       "    }\n",
       "</style>\n",
       "<table border=\"1\" class=\"dataframe\">\n",
       "  <thead>\n",
       "    <tr style=\"text-align: right;\">\n",
       "      <th></th>\n",
       "      <th>Year</th>\n",
       "      <th>Lake</th>\n",
       "      <th>Station</th>\n",
       "      <th>Species</th>\n",
       "      <th>Sample ID</th>\n",
       "      <th>PFBA (ug/kg)</th>\n",
       "      <th>PFBA Qual</th>\n",
       "      <th>PFBS (ug/kg)</th>\n",
       "      <th>PFBS Qual</th>\n",
       "      <th>PFDA (ug/kg)</th>\n",
       "      <th>...</th>\n",
       "      <th>PFMBA (ug/kg)</th>\n",
       "      <th>PFMBA Qual</th>\n",
       "      <th>PFMPA (ug/kg)</th>\n",
       "      <th>PFMPA Qual</th>\n",
       "      <th>PFNS (ug/kg)</th>\n",
       "      <th>PFNS Qual</th>\n",
       "      <th>PFOSA (ug/kg)</th>\n",
       "      <th>PFOSA Qual</th>\n",
       "      <th>PFPeS (ug/kg)</th>\n",
       "      <th>PFPeS Qual</th>\n",
       "    </tr>\n",
       "  </thead>\n",
       "  <tbody>\n",
       "    <tr>\n",
       "      <th>0</th>\n",
       "      <td>2011</td>\n",
       "      <td>Erie</td>\n",
       "      <td>LE-Dunkirk</td>\n",
       "      <td>Lake Trout</td>\n",
       "      <td>20110424001</td>\n",
       "      <td>1.822667</td>\n",
       "      <td>SBB-LAB</td>\n",
       "      <td>0.024000</td>\n",
       "      <td>BDL-LAB</td>\n",
       "      <td>1.511925</td>\n",
       "      <td>...</td>\n",
       "      <td>NaN</td>\n",
       "      <td>NaN</td>\n",
       "      <td>NaN</td>\n",
       "      <td>NaN</td>\n",
       "      <td>NaN</td>\n",
       "      <td>NaN</td>\n",
       "      <td>NaN</td>\n",
       "      <td>NaN</td>\n",
       "      <td>NaN</td>\n",
       "      <td>NaN</td>\n",
       "    </tr>\n",
       "    <tr>\n",
       "      <th>1</th>\n",
       "      <td>2011</td>\n",
       "      <td>Erie</td>\n",
       "      <td>LE-Dunkirk</td>\n",
       "      <td>Lake Trout</td>\n",
       "      <td>20110424002</td>\n",
       "      <td>0.672333</td>\n",
       "      <td>SBB-LAB</td>\n",
       "      <td>0.054000</td>\n",
       "      <td>BDL-LAB</td>\n",
       "      <td>2.958710</td>\n",
       "      <td>...</td>\n",
       "      <td>NaN</td>\n",
       "      <td>NaN</td>\n",
       "      <td>NaN</td>\n",
       "      <td>NaN</td>\n",
       "      <td>NaN</td>\n",
       "      <td>NaN</td>\n",
       "      <td>NaN</td>\n",
       "      <td>NaN</td>\n",
       "      <td>NaN</td>\n",
       "      <td>NaN</td>\n",
       "    </tr>\n",
       "    <tr>\n",
       "      <th>2</th>\n",
       "      <td>2011</td>\n",
       "      <td>Erie</td>\n",
       "      <td>LE-Dunkirk</td>\n",
       "      <td>Lake Trout</td>\n",
       "      <td>20110424003</td>\n",
       "      <td>1.131667</td>\n",
       "      <td>SBB-LAB</td>\n",
       "      <td>0.018333</td>\n",
       "      <td>BDL-LAB</td>\n",
       "      <td>3.775554</td>\n",
       "      <td>...</td>\n",
       "      <td>NaN</td>\n",
       "      <td>NaN</td>\n",
       "      <td>NaN</td>\n",
       "      <td>NaN</td>\n",
       "      <td>NaN</td>\n",
       "      <td>NaN</td>\n",
       "      <td>NaN</td>\n",
       "      <td>NaN</td>\n",
       "      <td>NaN</td>\n",
       "      <td>NaN</td>\n",
       "    </tr>\n",
       "    <tr>\n",
       "      <th>3</th>\n",
       "      <td>2011</td>\n",
       "      <td>Erie</td>\n",
       "      <td>LE-Dunkirk</td>\n",
       "      <td>Lake Trout</td>\n",
       "      <td>20110424004</td>\n",
       "      <td>1.570022</td>\n",
       "      <td>NaN</td>\n",
       "      <td>0.010667</td>\n",
       "      <td>BDL-LAB</td>\n",
       "      <td>3.540166</td>\n",
       "      <td>...</td>\n",
       "      <td>NaN</td>\n",
       "      <td>NaN</td>\n",
       "      <td>NaN</td>\n",
       "      <td>NaN</td>\n",
       "      <td>NaN</td>\n",
       "      <td>NaN</td>\n",
       "      <td>NaN</td>\n",
       "      <td>NaN</td>\n",
       "      <td>NaN</td>\n",
       "      <td>NaN</td>\n",
       "    </tr>\n",
       "    <tr>\n",
       "      <th>4</th>\n",
       "      <td>2011</td>\n",
       "      <td>Erie</td>\n",
       "      <td>LE-Dunkirk</td>\n",
       "      <td>Lake Trout</td>\n",
       "      <td>20110424005</td>\n",
       "      <td>0.903333</td>\n",
       "      <td>SBB-LAB</td>\n",
       "      <td>0.052333</td>\n",
       "      <td>BDL-LAB</td>\n",
       "      <td>3.607923</td>\n",
       "      <td>...</td>\n",
       "      <td>NaN</td>\n",
       "      <td>NaN</td>\n",
       "      <td>NaN</td>\n",
       "      <td>NaN</td>\n",
       "      <td>NaN</td>\n",
       "      <td>NaN</td>\n",
       "      <td>NaN</td>\n",
       "      <td>NaN</td>\n",
       "      <td>NaN</td>\n",
       "      <td>NaN</td>\n",
       "    </tr>\n",
       "    <tr>\n",
       "      <th>...</th>\n",
       "      <td>...</td>\n",
       "      <td>...</td>\n",
       "      <td>...</td>\n",
       "      <td>...</td>\n",
       "      <td>...</td>\n",
       "      <td>...</td>\n",
       "      <td>...</td>\n",
       "      <td>...</td>\n",
       "      <td>...</td>\n",
       "      <td>...</td>\n",
       "      <td>...</td>\n",
       "      <td>...</td>\n",
       "      <td>...</td>\n",
       "      <td>...</td>\n",
       "      <td>...</td>\n",
       "      <td>...</td>\n",
       "      <td>...</td>\n",
       "      <td>...</td>\n",
       "      <td>...</td>\n",
       "      <td>...</td>\n",
       "      <td>...</td>\n",
       "    </tr>\n",
       "    <tr>\n",
       "      <th>376</th>\n",
       "      <td>2022</td>\n",
       "      <td>Superior</td>\n",
       "      <td>LS-Apostle Island</td>\n",
       "      <td>Lake Trout</td>\n",
       "      <td>20221311AC006</td>\n",
       "      <td>NaN</td>\n",
       "      <td>UND-LAB</td>\n",
       "      <td>NaN</td>\n",
       "      <td>UND-LAB</td>\n",
       "      <td>1.071780</td>\n",
       "      <td>...</td>\n",
       "      <td>NaN</td>\n",
       "      <td>UND-LAB</td>\n",
       "      <td>NaN</td>\n",
       "      <td>UND-LAB</td>\n",
       "      <td>NaN</td>\n",
       "      <td>UND-LAB</td>\n",
       "      <td>NaN</td>\n",
       "      <td>UND-LAB</td>\n",
       "      <td>NaN</td>\n",
       "      <td>UND-LAB</td>\n",
       "    </tr>\n",
       "    <tr>\n",
       "      <th>377</th>\n",
       "      <td>2022</td>\n",
       "      <td>Superior</td>\n",
       "      <td>LS-Apostle Island</td>\n",
       "      <td>Lake Trout</td>\n",
       "      <td>20221311AC007</td>\n",
       "      <td>NaN</td>\n",
       "      <td>UND-LAB,FSS-QC</td>\n",
       "      <td>NaN</td>\n",
       "      <td>UND-LAB</td>\n",
       "      <td>0.519403</td>\n",
       "      <td>...</td>\n",
       "      <td>NaN</td>\n",
       "      <td>UND-LAB</td>\n",
       "      <td>NaN</td>\n",
       "      <td>UND-LAB</td>\n",
       "      <td>NaN</td>\n",
       "      <td>UND-LAB</td>\n",
       "      <td>NaN</td>\n",
       "      <td>UND-LAB</td>\n",
       "      <td>NaN</td>\n",
       "      <td>UND-LAB</td>\n",
       "    </tr>\n",
       "    <tr>\n",
       "      <th>378</th>\n",
       "      <td>2022</td>\n",
       "      <td>Superior</td>\n",
       "      <td>LS-Apostle Island</td>\n",
       "      <td>Lake Trout</td>\n",
       "      <td>20221311AC008</td>\n",
       "      <td>NaN</td>\n",
       "      <td>UND-LAB</td>\n",
       "      <td>NaN</td>\n",
       "      <td>UND-LAB</td>\n",
       "      <td>0.920398</td>\n",
       "      <td>...</td>\n",
       "      <td>NaN</td>\n",
       "      <td>UND-LAB</td>\n",
       "      <td>NaN</td>\n",
       "      <td>UND-LAB</td>\n",
       "      <td>NaN</td>\n",
       "      <td>UND-LAB</td>\n",
       "      <td>NaN</td>\n",
       "      <td>UND-LAB</td>\n",
       "      <td>NaN</td>\n",
       "      <td>UND-LAB</td>\n",
       "    </tr>\n",
       "    <tr>\n",
       "      <th>379</th>\n",
       "      <td>2022</td>\n",
       "      <td>Superior</td>\n",
       "      <td>LS-Apostle Island</td>\n",
       "      <td>Lake Trout</td>\n",
       "      <td>20221311AC009</td>\n",
       "      <td>NaN</td>\n",
       "      <td>UND-LAB,FSS-QC</td>\n",
       "      <td>NaN</td>\n",
       "      <td>UND-LAB</td>\n",
       "      <td>0.764414</td>\n",
       "      <td>...</td>\n",
       "      <td>NaN</td>\n",
       "      <td>UND-LAB</td>\n",
       "      <td>NaN</td>\n",
       "      <td>UND-LAB</td>\n",
       "      <td>NaN</td>\n",
       "      <td>UND-LAB</td>\n",
       "      <td>NaN</td>\n",
       "      <td>UND-LAB</td>\n",
       "      <td>NaN</td>\n",
       "      <td>UND-LAB</td>\n",
       "    </tr>\n",
       "    <tr>\n",
       "      <th>380</th>\n",
       "      <td>2022</td>\n",
       "      <td>Superior</td>\n",
       "      <td>LS-Apostle Island</td>\n",
       "      <td>Lake Trout</td>\n",
       "      <td>20221311AC010</td>\n",
       "      <td>NaN</td>\n",
       "      <td>UND-LAB</td>\n",
       "      <td>NaN</td>\n",
       "      <td>UND-LAB</td>\n",
       "      <td>0.859804</td>\n",
       "      <td>...</td>\n",
       "      <td>NaN</td>\n",
       "      <td>UND-LAB</td>\n",
       "      <td>NaN</td>\n",
       "      <td>UND-LAB</td>\n",
       "      <td>NaN</td>\n",
       "      <td>UND-LAB</td>\n",
       "      <td>NaN</td>\n",
       "      <td>UND-LAB</td>\n",
       "      <td>NaN</td>\n",
       "      <td>UND-LAB</td>\n",
       "    </tr>\n",
       "  </tbody>\n",
       "</table>\n",
       "<p>381 rows × 111 columns</p>\n",
       "</div>"
      ],
      "text/plain": [
       "     Year      Lake            Station     Species      Sample ID  \\\n",
       "0    2011      Erie         LE-Dunkirk  Lake Trout    20110424001   \n",
       "1    2011      Erie         LE-Dunkirk  Lake Trout    20110424002   \n",
       "2    2011      Erie         LE-Dunkirk  Lake Trout    20110424003   \n",
       "3    2011      Erie         LE-Dunkirk  Lake Trout    20110424004   \n",
       "4    2011      Erie         LE-Dunkirk  Lake Trout    20110424005   \n",
       "..    ...       ...                ...         ...            ...   \n",
       "376  2022  Superior  LS-Apostle Island  Lake Trout  20221311AC006   \n",
       "377  2022  Superior  LS-Apostle Island  Lake Trout  20221311AC007   \n",
       "378  2022  Superior  LS-Apostle Island  Lake Trout  20221311AC008   \n",
       "379  2022  Superior  LS-Apostle Island  Lake Trout  20221311AC009   \n",
       "380  2022  Superior  LS-Apostle Island  Lake Trout  20221311AC010   \n",
       "\n",
       "     PFBA (ug/kg)       PFBA Qual  PFBS (ug/kg) PFBS Qual  PFDA (ug/kg)  ...  \\\n",
       "0        1.822667         SBB-LAB      0.024000   BDL-LAB      1.511925  ...   \n",
       "1        0.672333         SBB-LAB      0.054000   BDL-LAB      2.958710  ...   \n",
       "2        1.131667         SBB-LAB      0.018333   BDL-LAB      3.775554  ...   \n",
       "3        1.570022             NaN      0.010667   BDL-LAB      3.540166  ...   \n",
       "4        0.903333         SBB-LAB      0.052333   BDL-LAB      3.607923  ...   \n",
       "..            ...             ...           ...       ...           ...  ...   \n",
       "376           NaN         UND-LAB           NaN   UND-LAB      1.071780  ...   \n",
       "377           NaN  UND-LAB,FSS-QC           NaN   UND-LAB      0.519403  ...   \n",
       "378           NaN         UND-LAB           NaN   UND-LAB      0.920398  ...   \n",
       "379           NaN  UND-LAB,FSS-QC           NaN   UND-LAB      0.764414  ...   \n",
       "380           NaN         UND-LAB           NaN   UND-LAB      0.859804  ...   \n",
       "\n",
       "    PFMBA (ug/kg)  PFMBA Qual PFMPA (ug/kg)  PFMPA Qual PFNS (ug/kg)  \\\n",
       "0             NaN         NaN           NaN         NaN          NaN   \n",
       "1             NaN         NaN           NaN         NaN          NaN   \n",
       "2             NaN         NaN           NaN         NaN          NaN   \n",
       "3             NaN         NaN           NaN         NaN          NaN   \n",
       "4             NaN         NaN           NaN         NaN          NaN   \n",
       "..            ...         ...           ...         ...          ...   \n",
       "376           NaN     UND-LAB           NaN     UND-LAB          NaN   \n",
       "377           NaN     UND-LAB           NaN     UND-LAB          NaN   \n",
       "378           NaN     UND-LAB           NaN     UND-LAB          NaN   \n",
       "379           NaN     UND-LAB           NaN     UND-LAB          NaN   \n",
       "380           NaN     UND-LAB           NaN     UND-LAB          NaN   \n",
       "\n",
       "     PFNS Qual PFOSA (ug/kg)  PFOSA Qual PFPeS (ug/kg)  PFPeS Qual  \n",
       "0          NaN           NaN         NaN           NaN         NaN  \n",
       "1          NaN           NaN         NaN           NaN         NaN  \n",
       "2          NaN           NaN         NaN           NaN         NaN  \n",
       "3          NaN           NaN         NaN           NaN         NaN  \n",
       "4          NaN           NaN         NaN           NaN         NaN  \n",
       "..         ...           ...         ...           ...         ...  \n",
       "376    UND-LAB           NaN     UND-LAB           NaN     UND-LAB  \n",
       "377    UND-LAB           NaN     UND-LAB           NaN     UND-LAB  \n",
       "378    UND-LAB           NaN     UND-LAB           NaN     UND-LAB  \n",
       "379    UND-LAB           NaN     UND-LAB           NaN     UND-LAB  \n",
       "380    UND-LAB           NaN     UND-LAB           NaN     UND-LAB  \n",
       "\n",
       "[381 rows x 111 columns]"
      ]
     },
     "execution_count": 61,
     "metadata": {},
     "output_type": "execute_result"
    }
   ],
   "source": [
    "fish_data_xlsx = pd.read_excel('GLENDA_PFAS_IN_FISH_XLSX.xlsx', sheet_name='Composite Results', engine='openpyxl')\n",
    "fish_data_xlsx"
   ]
  },
  {
   "cell_type": "markdown",
   "metadata": {},
   "source": [
    "### Read in data\n",
    "(2) Write a code line to read in the GLENDA_PFAS_IN_FISH_CSV.csv file and save it to the variable fish_data_csv. Use the read_csv(csv_filenmae) function from pandas (https://pandas.pydata.org/docs/reference/api/pandas.read_csv.html). Display the table and compare it to the table above.\n"
   ]
  },
  {
   "cell_type": "code",
   "execution_count": 62,
   "metadata": {},
   "outputs": [],
   "source": [
    "# fish_data_csv = pd.read_csv('GLENDA_PFAS_IN_FISH_CSV.csv')\n",
    "# fish_data_csv"
   ]
  },
  {
   "cell_type": "markdown",
   "metadata": {},
   "source": [
    "### Columns and Indices of Dataframes\n",
    "Nice! Now you know how to read in data from csv and excel files. Each pandas dataframe has column names and row indices. Below you see an example of how to use .columns (https://pandas.pydata.org/docs/reference/api/pandas.DataFrame.columns.html) and .index (https://pandas.pydata.org/docs/reference/api/pandas.DataFrame.index.html) to print the column names and inidices of your data frame fish_data.xslx. Try to do the same for you fish_data_csv dataframe. Do the column names look similar? Do the column indices look similar?"
   ]
  },
  {
   "cell_type": "code",
   "execution_count": 63,
   "metadata": {},
   "outputs": [
    {
     "name": "stdout",
     "output_type": "stream",
     "text": [
      "Index(['Year', 'Lake', 'Station', 'Species', 'Sample ID', 'PFBA (ug/kg)',\n",
      "       'PFBA Qual', 'PFBS (ug/kg)', 'PFBS Qual', 'PFDA (ug/kg)',\n",
      "       ...\n",
      "       'PFMBA (ug/kg)', 'PFMBA Qual', 'PFMPA (ug/kg)', 'PFMPA Qual',\n",
      "       'PFNS (ug/kg)', 'PFNS Qual', 'PFOSA (ug/kg)', 'PFOSA Qual',\n",
      "       'PFPeS (ug/kg)', 'PFPeS Qual'],\n",
      "      dtype='object', length=111)\n",
      "RangeIndex(start=0, stop=381, step=1)\n"
     ]
    }
   ],
   "source": [
    "print(fish_data_xlsx.columns)\n",
    "print(fish_data_xlsx.index)"
   ]
  },
  {
   "cell_type": "code",
   "execution_count": 64,
   "metadata": {},
   "outputs": [],
   "source": [
    "# print(fish_data_csv.columns)\n",
    "# print(fish_data_csv.index)"
   ]
  },
  {
   "cell_type": "markdown",
   "metadata": {
    "tags": []
   },
   "source": [
    "### Select column (PFOS)\n",
    "All PFAS are interesting, but let us focus only on PFOS today. Create a new dataframe called fish_data_pfos, which contains only information on: \\\n",
    "    - sampling year \\\n",
    "    - sampling location (Station) \\\n",
    "    - measured PFOS concentratino in ug/kg \\\n",
    "    \n",
    "**Hint:** Use the following syntax to select only certain columns:\n",
    "data_new = data[['column1', 'column2', 'column3']]\n",
    "for more information on selecting data from pandas data frames visit:(https://pandas.pydata.org/docs/getting_started/intro_tutorials/03_subset_data.html)"
   ]
  },
  {
   "cell_type": "code",
   "execution_count": 65,
   "metadata": {},
   "outputs": [
    {
     "data": {
      "text/html": [
       "<div>\n",
       "<style scoped>\n",
       "    .dataframe tbody tr th:only-of-type {\n",
       "        vertical-align: middle;\n",
       "    }\n",
       "\n",
       "    .dataframe tbody tr th {\n",
       "        vertical-align: top;\n",
       "    }\n",
       "\n",
       "    .dataframe thead th {\n",
       "        text-align: right;\n",
       "    }\n",
       "</style>\n",
       "<table border=\"1\" class=\"dataframe\">\n",
       "  <thead>\n",
       "    <tr style=\"text-align: right;\">\n",
       "      <th></th>\n",
       "      <th>Year</th>\n",
       "      <th>Station</th>\n",
       "      <th>PFOS (ug/kg)</th>\n",
       "    </tr>\n",
       "  </thead>\n",
       "  <tbody>\n",
       "    <tr>\n",
       "      <th>0</th>\n",
       "      <td>2011</td>\n",
       "      <td>LE-Dunkirk</td>\n",
       "      <td>35.666667</td>\n",
       "    </tr>\n",
       "    <tr>\n",
       "      <th>1</th>\n",
       "      <td>2011</td>\n",
       "      <td>LE-Dunkirk</td>\n",
       "      <td>44.538622</td>\n",
       "    </tr>\n",
       "    <tr>\n",
       "      <th>2</th>\n",
       "      <td>2011</td>\n",
       "      <td>LE-Dunkirk</td>\n",
       "      <td>62.881407</td>\n",
       "    </tr>\n",
       "    <tr>\n",
       "      <th>3</th>\n",
       "      <td>2011</td>\n",
       "      <td>LE-Dunkirk</td>\n",
       "      <td>56.564481</td>\n",
       "    </tr>\n",
       "    <tr>\n",
       "      <th>4</th>\n",
       "      <td>2011</td>\n",
       "      <td>LE-Dunkirk</td>\n",
       "      <td>50.985656</td>\n",
       "    </tr>\n",
       "    <tr>\n",
       "      <th>...</th>\n",
       "      <td>...</td>\n",
       "      <td>...</td>\n",
       "      <td>...</td>\n",
       "    </tr>\n",
       "    <tr>\n",
       "      <th>376</th>\n",
       "      <td>2022</td>\n",
       "      <td>LS-Apostle Island</td>\n",
       "      <td>5.557000</td>\n",
       "    </tr>\n",
       "    <tr>\n",
       "      <th>377</th>\n",
       "      <td>2022</td>\n",
       "      <td>LS-Apostle Island</td>\n",
       "      <td>3.224000</td>\n",
       "    </tr>\n",
       "    <tr>\n",
       "      <th>378</th>\n",
       "      <td>2022</td>\n",
       "      <td>LS-Apostle Island</td>\n",
       "      <td>6.180000</td>\n",
       "    </tr>\n",
       "    <tr>\n",
       "      <th>379</th>\n",
       "      <td>2022</td>\n",
       "      <td>LS-Apostle Island</td>\n",
       "      <td>5.040000</td>\n",
       "    </tr>\n",
       "    <tr>\n",
       "      <th>380</th>\n",
       "      <td>2022</td>\n",
       "      <td>LS-Apostle Island</td>\n",
       "      <td>6.352000</td>\n",
       "    </tr>\n",
       "  </tbody>\n",
       "</table>\n",
       "<p>381 rows × 3 columns</p>\n",
       "</div>"
      ],
      "text/plain": [
       "     Year            Station  PFOS (ug/kg)\n",
       "0    2011         LE-Dunkirk     35.666667\n",
       "1    2011         LE-Dunkirk     44.538622\n",
       "2    2011         LE-Dunkirk     62.881407\n",
       "3    2011         LE-Dunkirk     56.564481\n",
       "4    2011         LE-Dunkirk     50.985656\n",
       "..    ...                ...           ...\n",
       "376  2022  LS-Apostle Island      5.557000\n",
       "377  2022  LS-Apostle Island      3.224000\n",
       "378  2022  LS-Apostle Island      6.180000\n",
       "379  2022  LS-Apostle Island      5.040000\n",
       "380  2022  LS-Apostle Island      6.352000\n",
       "\n",
       "[381 rows x 3 columns]"
      ]
     },
     "execution_count": 65,
     "metadata": {},
     "output_type": "execute_result"
    }
   ],
   "source": [
    "selected_compound = 'PFOS (ug/kg)'\n",
    "fish_data_pfos = fish_data_xlsx[['Year', 'Station', selected_compound]]\n",
    "fish_data_pfos"
   ]
  },
  {
   "cell_type": "markdown",
   "metadata": {},
   "source": [
    "### Averaging\n",
    "There are multiple fish samples available for each year and each location.\n",
    "In farther analysis you are interested in the average PFOS concentration for each year and each sample.\n",
    "Below you find Code to arange the dataframe in subgroups of the same year and station and average the concentration of the selected PFOS compound in each subgroup. When you execute the cell below you should see a dataframe containing the average PFOS concentration for each year and each station.\n"
   ]
  },
  {
   "cell_type": "code",
   "execution_count": 66,
   "metadata": {},
   "outputs": [
    {
     "data": {
      "text/html": [
       "<div>\n",
       "<style scoped>\n",
       "    .dataframe tbody tr th:only-of-type {\n",
       "        vertical-align: middle;\n",
       "    }\n",
       "\n",
       "    .dataframe tbody tr th {\n",
       "        vertical-align: top;\n",
       "    }\n",
       "\n",
       "    .dataframe thead th {\n",
       "        text-align: right;\n",
       "    }\n",
       "</style>\n",
       "<table border=\"1\" class=\"dataframe\">\n",
       "  <thead>\n",
       "    <tr style=\"text-align: right;\">\n",
       "      <th></th>\n",
       "      <th>Year</th>\n",
       "      <th>Station</th>\n",
       "      <th>PFOS (ug/kg)</th>\n",
       "    </tr>\n",
       "  </thead>\n",
       "  <tbody>\n",
       "    <tr>\n",
       "      <th>0</th>\n",
       "      <td>2011</td>\n",
       "      <td>LE-Dunkirk</td>\n",
       "      <td>59.480360</td>\n",
       "    </tr>\n",
       "    <tr>\n",
       "      <th>1</th>\n",
       "      <td>2011</td>\n",
       "      <td>LH-Port Austin</td>\n",
       "      <td>7.134971</td>\n",
       "    </tr>\n",
       "    <tr>\n",
       "      <th>2</th>\n",
       "      <td>2011</td>\n",
       "      <td>LM-Sturgeon Bay</td>\n",
       "      <td>13.271919</td>\n",
       "    </tr>\n",
       "    <tr>\n",
       "      <th>3</th>\n",
       "      <td>2011</td>\n",
       "      <td>LO-North Hamlin</td>\n",
       "      <td>16.917975</td>\n",
       "    </tr>\n",
       "    <tr>\n",
       "      <th>4</th>\n",
       "      <td>2011</td>\n",
       "      <td>LS-Keweenaw Point</td>\n",
       "      <td>1.545562</td>\n",
       "    </tr>\n",
       "    <tr>\n",
       "      <th>5</th>\n",
       "      <td>2012</td>\n",
       "      <td>LE-Middle Bass Island</td>\n",
       "      <td>45.924813</td>\n",
       "    </tr>\n",
       "    <tr>\n",
       "      <th>6</th>\n",
       "      <td>2012</td>\n",
       "      <td>LH-Rockport</td>\n",
       "      <td>10.728934</td>\n",
       "    </tr>\n",
       "    <tr>\n",
       "      <th>7</th>\n",
       "      <td>2012</td>\n",
       "      <td>LM-Saugatuck</td>\n",
       "      <td>9.931907</td>\n",
       "    </tr>\n",
       "    <tr>\n",
       "      <th>8</th>\n",
       "      <td>2012</td>\n",
       "      <td>LO-Oswego</td>\n",
       "      <td>43.020409</td>\n",
       "    </tr>\n",
       "    <tr>\n",
       "      <th>9</th>\n",
       "      <td>2012</td>\n",
       "      <td>LS-Apostle Island</td>\n",
       "      <td>1.662534</td>\n",
       "    </tr>\n",
       "    <tr>\n",
       "      <th>10</th>\n",
       "      <td>2013</td>\n",
       "      <td>LE-Dunkirk</td>\n",
       "      <td>166.501824</td>\n",
       "    </tr>\n",
       "    <tr>\n",
       "      <th>11</th>\n",
       "      <td>2013</td>\n",
       "      <td>LH-Port Austin</td>\n",
       "      <td>35.775759</td>\n",
       "    </tr>\n",
       "    <tr>\n",
       "      <th>12</th>\n",
       "      <td>2013</td>\n",
       "      <td>LM-Sturgeon Bay</td>\n",
       "      <td>39.967274</td>\n",
       "    </tr>\n",
       "    <tr>\n",
       "      <th>13</th>\n",
       "      <td>2013</td>\n",
       "      <td>LO-North Hamlin</td>\n",
       "      <td>65.565843</td>\n",
       "    </tr>\n",
       "    <tr>\n",
       "      <th>14</th>\n",
       "      <td>2013</td>\n",
       "      <td>LS-Keweenaw Point</td>\n",
       "      <td>3.953383</td>\n",
       "    </tr>\n",
       "    <tr>\n",
       "      <th>15</th>\n",
       "      <td>2014</td>\n",
       "      <td>LE-Middle Bass Island</td>\n",
       "      <td>47.072886</td>\n",
       "    </tr>\n",
       "    <tr>\n",
       "      <th>16</th>\n",
       "      <td>2014</td>\n",
       "      <td>LH-Rockport</td>\n",
       "      <td>15.945323</td>\n",
       "    </tr>\n",
       "    <tr>\n",
       "      <th>17</th>\n",
       "      <td>2014</td>\n",
       "      <td>LM-Saugatuck</td>\n",
       "      <td>45.758478</td>\n",
       "    </tr>\n",
       "    <tr>\n",
       "      <th>18</th>\n",
       "      <td>2014</td>\n",
       "      <td>LO-Oswego</td>\n",
       "      <td>75.571978</td>\n",
       "    </tr>\n",
       "    <tr>\n",
       "      <th>19</th>\n",
       "      <td>2014</td>\n",
       "      <td>LS-Apostle Island</td>\n",
       "      <td>8.230619</td>\n",
       "    </tr>\n",
       "    <tr>\n",
       "      <th>20</th>\n",
       "      <td>2015</td>\n",
       "      <td>LE-Dunkirk</td>\n",
       "      <td>106.504011</td>\n",
       "    </tr>\n",
       "    <tr>\n",
       "      <th>21</th>\n",
       "      <td>2015</td>\n",
       "      <td>LH-Port Austin</td>\n",
       "      <td>23.727769</td>\n",
       "    </tr>\n",
       "    <tr>\n",
       "      <th>22</th>\n",
       "      <td>2015</td>\n",
       "      <td>LM-Sturgeon Bay</td>\n",
       "      <td>29.042140</td>\n",
       "    </tr>\n",
       "    <tr>\n",
       "      <th>23</th>\n",
       "      <td>2015</td>\n",
       "      <td>LO-North Hamlin</td>\n",
       "      <td>63.678272</td>\n",
       "    </tr>\n",
       "    <tr>\n",
       "      <th>24</th>\n",
       "      <td>2015</td>\n",
       "      <td>LS-Keweenaw Point</td>\n",
       "      <td>5.092227</td>\n",
       "    </tr>\n",
       "    <tr>\n",
       "      <th>25</th>\n",
       "      <td>2016</td>\n",
       "      <td>LE-Middle Bass Island</td>\n",
       "      <td>60.964028</td>\n",
       "    </tr>\n",
       "    <tr>\n",
       "      <th>26</th>\n",
       "      <td>2016</td>\n",
       "      <td>LH-Rockport</td>\n",
       "      <td>18.819935</td>\n",
       "    </tr>\n",
       "    <tr>\n",
       "      <th>27</th>\n",
       "      <td>2016</td>\n",
       "      <td>LM-Saugatuck</td>\n",
       "      <td>27.516299</td>\n",
       "    </tr>\n",
       "    <tr>\n",
       "      <th>28</th>\n",
       "      <td>2016</td>\n",
       "      <td>LO-Oswego</td>\n",
       "      <td>63.373378</td>\n",
       "    </tr>\n",
       "    <tr>\n",
       "      <th>29</th>\n",
       "      <td>2016</td>\n",
       "      <td>LS-Apostle Island</td>\n",
       "      <td>5.503765</td>\n",
       "    </tr>\n",
       "    <tr>\n",
       "      <th>30</th>\n",
       "      <td>2017</td>\n",
       "      <td>LE-Dunkirk</td>\n",
       "      <td>84.271987</td>\n",
       "    </tr>\n",
       "    <tr>\n",
       "      <th>31</th>\n",
       "      <td>2017</td>\n",
       "      <td>LH-Port Austin</td>\n",
       "      <td>23.500203</td>\n",
       "    </tr>\n",
       "    <tr>\n",
       "      <th>32</th>\n",
       "      <td>2017</td>\n",
       "      <td>LM-Sturgeon Bay</td>\n",
       "      <td>37.514826</td>\n",
       "    </tr>\n",
       "    <tr>\n",
       "      <th>33</th>\n",
       "      <td>2017</td>\n",
       "      <td>LO-North Hamlin</td>\n",
       "      <td>47.269438</td>\n",
       "    </tr>\n",
       "    <tr>\n",
       "      <th>34</th>\n",
       "      <td>2017</td>\n",
       "      <td>LS-Keweenaw Point</td>\n",
       "      <td>6.085477</td>\n",
       "    </tr>\n",
       "    <tr>\n",
       "      <th>35</th>\n",
       "      <td>2018</td>\n",
       "      <td>LE-Middle Bass Island</td>\n",
       "      <td>19.430373</td>\n",
       "    </tr>\n",
       "    <tr>\n",
       "      <th>36</th>\n",
       "      <td>2018</td>\n",
       "      <td>LH-Rockport</td>\n",
       "      <td>10.835256</td>\n",
       "    </tr>\n",
       "    <tr>\n",
       "      <th>37</th>\n",
       "      <td>2018</td>\n",
       "      <td>LM-Saugatuck</td>\n",
       "      <td>25.686815</td>\n",
       "    </tr>\n",
       "    <tr>\n",
       "      <th>38</th>\n",
       "      <td>2018</td>\n",
       "      <td>LO-Oswego</td>\n",
       "      <td>49.335520</td>\n",
       "    </tr>\n",
       "    <tr>\n",
       "      <th>39</th>\n",
       "      <td>2018</td>\n",
       "      <td>LS-Apostle Island</td>\n",
       "      <td>5.344240</td>\n",
       "    </tr>\n",
       "    <tr>\n",
       "      <th>40</th>\n",
       "      <td>2019</td>\n",
       "      <td>LE-Dunkirk</td>\n",
       "      <td>66.784099</td>\n",
       "    </tr>\n",
       "    <tr>\n",
       "      <th>41</th>\n",
       "      <td>2019</td>\n",
       "      <td>LH-Port Austin</td>\n",
       "      <td>12.118695</td>\n",
       "    </tr>\n",
       "    <tr>\n",
       "      <th>42</th>\n",
       "      <td>2019</td>\n",
       "      <td>LM-Sturgeon Bay</td>\n",
       "      <td>16.953038</td>\n",
       "    </tr>\n",
       "    <tr>\n",
       "      <th>43</th>\n",
       "      <td>2019</td>\n",
       "      <td>LO-North Hamlin</td>\n",
       "      <td>52.020893</td>\n",
       "    </tr>\n",
       "    <tr>\n",
       "      <th>44</th>\n",
       "      <td>2019</td>\n",
       "      <td>LS-Keweenaw Point</td>\n",
       "      <td>3.616842</td>\n",
       "    </tr>\n",
       "    <tr>\n",
       "      <th>45</th>\n",
       "      <td>2020</td>\n",
       "      <td>LE-Middle Bass Island</td>\n",
       "      <td>19.618255</td>\n",
       "    </tr>\n",
       "    <tr>\n",
       "      <th>46</th>\n",
       "      <td>2020</td>\n",
       "      <td>LH-Rockport</td>\n",
       "      <td>18.925161</td>\n",
       "    </tr>\n",
       "    <tr>\n",
       "      <th>47</th>\n",
       "      <td>2020</td>\n",
       "      <td>LM-Saugatuck</td>\n",
       "      <td>34.464813</td>\n",
       "    </tr>\n",
       "    <tr>\n",
       "      <th>48</th>\n",
       "      <td>2020</td>\n",
       "      <td>LO-Oswego</td>\n",
       "      <td>32.032956</td>\n",
       "    </tr>\n",
       "    <tr>\n",
       "      <th>49</th>\n",
       "      <td>2020</td>\n",
       "      <td>LS-Apostle Island</td>\n",
       "      <td>5.554537</td>\n",
       "    </tr>\n",
       "    <tr>\n",
       "      <th>50</th>\n",
       "      <td>2021</td>\n",
       "      <td>LE-Dunkirk</td>\n",
       "      <td>76.151710</td>\n",
       "    </tr>\n",
       "    <tr>\n",
       "      <th>51</th>\n",
       "      <td>2021</td>\n",
       "      <td>LH-Port Austin</td>\n",
       "      <td>24.780229</td>\n",
       "    </tr>\n",
       "    <tr>\n",
       "      <th>52</th>\n",
       "      <td>2021</td>\n",
       "      <td>LM-Sturgeon Bay</td>\n",
       "      <td>20.389071</td>\n",
       "    </tr>\n",
       "    <tr>\n",
       "      <th>53</th>\n",
       "      <td>2021</td>\n",
       "      <td>LO-North Hamlin</td>\n",
       "      <td>29.068373</td>\n",
       "    </tr>\n",
       "    <tr>\n",
       "      <th>54</th>\n",
       "      <td>2021</td>\n",
       "      <td>LS-Keweenaw Point</td>\n",
       "      <td>3.903429</td>\n",
       "    </tr>\n",
       "    <tr>\n",
       "      <th>55</th>\n",
       "      <td>2022</td>\n",
       "      <td>LE-Middle Bass Island</td>\n",
       "      <td>12.495904</td>\n",
       "    </tr>\n",
       "    <tr>\n",
       "      <th>56</th>\n",
       "      <td>2022</td>\n",
       "      <td>LH-Rockport</td>\n",
       "      <td>20.139700</td>\n",
       "    </tr>\n",
       "    <tr>\n",
       "      <th>57</th>\n",
       "      <td>2022</td>\n",
       "      <td>LM-Saugatuck</td>\n",
       "      <td>22.727941</td>\n",
       "    </tr>\n",
       "    <tr>\n",
       "      <th>58</th>\n",
       "      <td>2022</td>\n",
       "      <td>LO-Oswego</td>\n",
       "      <td>21.479532</td>\n",
       "    </tr>\n",
       "    <tr>\n",
       "      <th>59</th>\n",
       "      <td>2022</td>\n",
       "      <td>LS-Apostle Island</td>\n",
       "      <td>4.859500</td>\n",
       "    </tr>\n",
       "  </tbody>\n",
       "</table>\n",
       "</div>"
      ],
      "text/plain": [
       "    Year                Station  PFOS (ug/kg)\n",
       "0   2011             LE-Dunkirk     59.480360\n",
       "1   2011         LH-Port Austin      7.134971\n",
       "2   2011        LM-Sturgeon Bay     13.271919\n",
       "3   2011        LO-North Hamlin     16.917975\n",
       "4   2011      LS-Keweenaw Point      1.545562\n",
       "5   2012  LE-Middle Bass Island     45.924813\n",
       "6   2012            LH-Rockport     10.728934\n",
       "7   2012           LM-Saugatuck      9.931907\n",
       "8   2012              LO-Oswego     43.020409\n",
       "9   2012      LS-Apostle Island      1.662534\n",
       "10  2013             LE-Dunkirk    166.501824\n",
       "11  2013         LH-Port Austin     35.775759\n",
       "12  2013        LM-Sturgeon Bay     39.967274\n",
       "13  2013        LO-North Hamlin     65.565843\n",
       "14  2013      LS-Keweenaw Point      3.953383\n",
       "15  2014  LE-Middle Bass Island     47.072886\n",
       "16  2014            LH-Rockport     15.945323\n",
       "17  2014           LM-Saugatuck     45.758478\n",
       "18  2014              LO-Oswego     75.571978\n",
       "19  2014      LS-Apostle Island      8.230619\n",
       "20  2015             LE-Dunkirk    106.504011\n",
       "21  2015         LH-Port Austin     23.727769\n",
       "22  2015        LM-Sturgeon Bay     29.042140\n",
       "23  2015        LO-North Hamlin     63.678272\n",
       "24  2015      LS-Keweenaw Point      5.092227\n",
       "25  2016  LE-Middle Bass Island     60.964028\n",
       "26  2016            LH-Rockport     18.819935\n",
       "27  2016           LM-Saugatuck     27.516299\n",
       "28  2016              LO-Oswego     63.373378\n",
       "29  2016      LS-Apostle Island      5.503765\n",
       "30  2017             LE-Dunkirk     84.271987\n",
       "31  2017         LH-Port Austin     23.500203\n",
       "32  2017        LM-Sturgeon Bay     37.514826\n",
       "33  2017        LO-North Hamlin     47.269438\n",
       "34  2017      LS-Keweenaw Point      6.085477\n",
       "35  2018  LE-Middle Bass Island     19.430373\n",
       "36  2018            LH-Rockport     10.835256\n",
       "37  2018           LM-Saugatuck     25.686815\n",
       "38  2018              LO-Oswego     49.335520\n",
       "39  2018      LS-Apostle Island      5.344240\n",
       "40  2019             LE-Dunkirk     66.784099\n",
       "41  2019         LH-Port Austin     12.118695\n",
       "42  2019        LM-Sturgeon Bay     16.953038\n",
       "43  2019        LO-North Hamlin     52.020893\n",
       "44  2019      LS-Keweenaw Point      3.616842\n",
       "45  2020  LE-Middle Bass Island     19.618255\n",
       "46  2020            LH-Rockport     18.925161\n",
       "47  2020           LM-Saugatuck     34.464813\n",
       "48  2020              LO-Oswego     32.032956\n",
       "49  2020      LS-Apostle Island      5.554537\n",
       "50  2021             LE-Dunkirk     76.151710\n",
       "51  2021         LH-Port Austin     24.780229\n",
       "52  2021        LM-Sturgeon Bay     20.389071\n",
       "53  2021        LO-North Hamlin     29.068373\n",
       "54  2021      LS-Keweenaw Point      3.903429\n",
       "55  2022  LE-Middle Bass Island     12.495904\n",
       "56  2022            LH-Rockport     20.139700\n",
       "57  2022           LM-Saugatuck     22.727941\n",
       "58  2022              LO-Oswego     21.479532\n",
       "59  2022      LS-Apostle Island      4.859500"
      ]
     },
     "execution_count": 66,
     "metadata": {},
     "output_type": "execute_result"
    }
   ],
   "source": [
    "selected_compound = 'PFOS (ug/kg)'\n",
    "fish_data_pfos_mean = fish_data_pfos.groupby(['Year', 'Station'], as_index=False)[selected_compound].mean()\n",
    "fish_data_pfos_mean"
   ]
  },
  {
   "cell_type": "markdown",
   "metadata": {
    "tags": []
   },
   "source": [
    "### Filtering\n",
    "Select the data from one of the ten stations by filtering the 'Station' column\n",
    "\n",
    "**Hint:** Use the following syntax to select only certain rows: \\\n",
    "data_new = data[data[filter_column] == filter_value] or \\\n",
    "data_new = data[data[filter_column].isin(filter_value)] \\\n",
    "for more information on selecting data from pandas data frames visit: \\(https://pandas.pydata.org/docs/getting_started/intro_tutorials/03_subset_data.html)"
   ]
  },
  {
   "cell_type": "code",
   "execution_count": 67,
   "metadata": {},
   "outputs": [
    {
     "data": {
      "text/html": [
       "<div>\n",
       "<style scoped>\n",
       "    .dataframe tbody tr th:only-of-type {\n",
       "        vertical-align: middle;\n",
       "    }\n",
       "\n",
       "    .dataframe tbody tr th {\n",
       "        vertical-align: top;\n",
       "    }\n",
       "\n",
       "    .dataframe thead th {\n",
       "        text-align: right;\n",
       "    }\n",
       "</style>\n",
       "<table border=\"1\" class=\"dataframe\">\n",
       "  <thead>\n",
       "    <tr style=\"text-align: right;\">\n",
       "      <th></th>\n",
       "      <th>Year</th>\n",
       "      <th>Station</th>\n",
       "      <th>PFOS (ug/kg)</th>\n",
       "    </tr>\n",
       "  </thead>\n",
       "  <tbody>\n",
       "    <tr>\n",
       "      <th>1</th>\n",
       "      <td>2011</td>\n",
       "      <td>LH-Port Austin</td>\n",
       "      <td>7.134971</td>\n",
       "    </tr>\n",
       "    <tr>\n",
       "      <th>11</th>\n",
       "      <td>2013</td>\n",
       "      <td>LH-Port Austin</td>\n",
       "      <td>35.775759</td>\n",
       "    </tr>\n",
       "    <tr>\n",
       "      <th>21</th>\n",
       "      <td>2015</td>\n",
       "      <td>LH-Port Austin</td>\n",
       "      <td>23.727769</td>\n",
       "    </tr>\n",
       "    <tr>\n",
       "      <th>31</th>\n",
       "      <td>2017</td>\n",
       "      <td>LH-Port Austin</td>\n",
       "      <td>23.500203</td>\n",
       "    </tr>\n",
       "    <tr>\n",
       "      <th>41</th>\n",
       "      <td>2019</td>\n",
       "      <td>LH-Port Austin</td>\n",
       "      <td>12.118695</td>\n",
       "    </tr>\n",
       "    <tr>\n",
       "      <th>51</th>\n",
       "      <td>2021</td>\n",
       "      <td>LH-Port Austin</td>\n",
       "      <td>24.780229</td>\n",
       "    </tr>\n",
       "  </tbody>\n",
       "</table>\n",
       "</div>"
      ],
      "text/plain": [
       "    Year         Station  PFOS (ug/kg)\n",
       "1   2011  LH-Port Austin      7.134971\n",
       "11  2013  LH-Port Austin     35.775759\n",
       "21  2015  LH-Port Austin     23.727769\n",
       "31  2017  LH-Port Austin     23.500203\n",
       "41  2019  LH-Port Austin     12.118695\n",
       "51  2021  LH-Port Austin     24.780229"
      ]
     },
     "execution_count": 67,
     "metadata": {},
     "output_type": "execute_result"
    }
   ],
   "source": [
    "fish_data_pfos_austin = fish_data_pfos_mean[fish_data_pfos_mean['Station'] == 'LH-Port Austin']\n",
    "fish_data_pfos_austin"
   ]
  },
  {
   "cell_type": "markdown",
   "metadata": {},
   "source": [
    "### Visualization\n",
    "Use .plot() to visualize the PFOS concentration over time at the selected location.\n",
    "\n",
    "**Hint:**\n",
    "Use the following syntax to plot the data:\\\n",
    "data.plot(x='column name of x data', y='column name of y data')\\\n",
    "plt.show() \\\n",
    "For show case examples visit:\\\n",
    "https://www.w3schools.com/python/pandas/pandas_plotting.asp"
   ]
  },
  {
   "cell_type": "code",
   "execution_count": 68,
   "metadata": {},
   "outputs": [
    {
     "data": {
      "image/png": "[encoded data removed]",
      "text/plain": [
       "<Figure size 432x288 with 1 Axes>"
      ]
     },
     "metadata": {
      "needs_background": "light"
     },
     "output_type": "display_data"
    }
   ],
   "source": [
    "fish_data_pfos_austin.plot(x='Year', y=selected_compound)\n",
    "plt.show()"
   ]
  },
  {
   "cell_type": "markdown",
   "metadata": {},
   "source": [
    "### Play around\n",
    "Congratulations, you managed to plot the timeseries of average PFOS concentration for fish at one of the ten stations.\n",
    "\n",
    "Now you can take advantage of the jupyter notebook and plot the time series for other PFAS compounds (like PFUnA or PFHxS, and other stations, by changing the filters in the cells above.\n",
    "\n",
    "**Expert tip**\n",
    "Instead of explicitly filtering by PFAS compound you can first define a variable with the compound name and use the vriable name in all of the following statements, which allows you to change the filter in only one line of code.\\\n",
    "selected_compound = 'PFOS (ug/kg)' \\\n",
    "fish_data_pfos = fish_data_csv[['Year', 'Lake', selected_compound]] \\"
   ]
  },
  {
   "cell_type": "markdown",
   "metadata": {},
   "source": [
    "# Maps\n",
    "For mapping purposes you first need to combine information (Latitude, Longitude and Lake) from the 'Station' sheet with the data you alread read in.\\\n",
    "\n",
    "First of all, read in the 'Stations' sheet of the 'GLENDA_PFAS_IN_FISH_XLSX.xlsx file. Save it under the variable name lat_lon_data. Look at the code blocks above to understand the syntax for reading in a certain sheet of an excel workbook.\\\n",
    "\n",
    "To write the longitude and latitude information of each station from the lat_lon_data dataframe to your original dataframe fish_data_pf0s mean, use the following code to iterate over all rows (stations) of lat_lon_data and add the lat_lon information to all rows of the respective station of the fish_data-pfos_mean dataframe.\n",
    "``\n",
    "for _, station in lat_lon.iterrows():\n",
    "    fish_data_pfos_mean.loc[fish_data_pfos_mean['Station']==station['Station'], 'Latitude'] = station['Latitude']\n",
    "    fish_data_pfos_mean.loc[fish_data_pfos_mean['Station']==station['Station'], 'Longitude'] = station['Longitude']\n",
    "    fish_data_pfos_mean.loc[fish_data_pfos_mean['Station']==station['Station'], 'Lake'] = station['Lake']\n",
    "``"
   ]
  },
  {
   "cell_type": "code",
   "execution_count": 69,
   "metadata": {},
   "outputs": [],
   "source": [
    "lat_lon_data = pd.read_excel('GLENDA_PFAS_IN_FISH_XLSX.xlsx', sheet_name='Stations', engine='openpyxl')\n",
    "for _, station in lat_lon_data.iterrows():\n",
    "    fish_data_pfos_mean.loc[fish_data_pfos_mean['Station']==station['Station'], 'Latitude'] = station['Latitude']\n",
    "    fish_data_pfos_mean.loc[fish_data_pfos_mean['Station']==station['Station'], 'Longitude'] = station['Longitude']\n",
    "    fish_data_pfos_mean.loc[fish_data_pfos_mean['Station']==station['Station'], 'Lake'] = station['Lake']"
   ]
  },
  {
   "cell_type": "markdown",
   "metadata": {},
   "source": [
    "### Show off example\n",
    "Mapping in jupyter notebook is easy.\n",
    "In the code block below you find three code lines used to show PFAS concentrations\n",
    "at the great lakes with changing time on an interactive map. You might have to zoom in."
   ]
  },
  {
   "cell_type": "code",
   "execution_count": 70,
   "metadata": {
    "tags": []
   },
   "outputs": [
    {
     "data": {
      "application/vnd.plotly.v1+json": {
       "config": {
        "plotlyServerURL": "https://plot.ly"
       },
       "data": [
        {
         "geo": "geo",
         "hovertemplate": "<b>%{hovertext}</b><br><br>Year=2011<br>PFOS (ug/kg)=%{marker.size}<br>Latitude=%{lat}<br>Longitude=%{lon}<extra></extra>",
         "hovertext": [
          "Erie",
          "Huron",
          "Michigan",
          "Ontario",
          "Superior"
         ],
         "lat": [
          42.416666666666664,
          44.083333333333336,
          44.75,
          43.416666666666664,
          47.416666666666664
         ],
         "legendgroup": "",
         "lon": [
          -79.58333333333333,
          -82.75,
          -87.08333333333333,
          -77.91666666666667,
          -87.58333333333333
         ],
         "marker": {
          "color": "#636efa",
          "size": [
           59.48036016306882,
           7.134971391513173,
           13.27191883923046,
           16.917974694719074,
           1.5455623326667227
          ],
          "sizemode": "area",
          "sizeref": 0.416254559515011,
          "symbol": "circle"
         },
         "mode": "markers",
         "name": "",
         "showlegend": false,
         "type": "scattergeo"
        }
       ],
       "frames": [
        {
         "data": [
          {
           "geo": "geo",
           "hovertemplate": "<b>%{hovertext}</b><br><br>Year=2011<br>PFOS (ug/kg)=%{marker.size}<br>Latitude=%{lat}<br>Longitude=%{lon}<extra></extra>",
           "hovertext": [
            "Erie",
            "Huron",
            "Michigan",
            "Ontario",
            "Superior"
           ],
           "lat": [
            42.416666666666664,
            44.083333333333336,
            44.75,
            43.416666666666664,
            47.416666666666664
           ],
           "legendgroup": "",
           "lon": [
            -79.58333333333333,
            -82.75,
            -87.08333333333333,
            -77.91666666666667,
            -87.58333333333333
           ],
           "marker": {
            "color": "#636efa",
            "size": [
             59.48036016306882,
             7.134971391513173,
             13.27191883923046,
             16.917974694719074,
             1.5455623326667227
            ],
            "sizemode": "area",
            "sizeref": 0.416254559515011,
            "symbol": "circle"
           },
           "mode": "markers",
           "name": "",
           "showlegend": false,
           "type": "scattergeo"
          }
         ],
         "name": "2011"
        },
        {
         "data": [
          {
           "geo": "geo",
           "hovertemplate": "<b>%{hovertext}</b><br><br>Year=2012<br>PFOS (ug/kg)=%{marker.size}<br>Latitude=%{lat}<br>Longitude=%{lon}<extra></extra>",
           "hovertext": [
            "Erie",
            "Huron",
            "Michigan",
            "Ontario",
            "Superior"
           ],
           "lat": [
            41.583333333333336,
            45.25,
            42.583333333333336,
            43.583333333333336,
            46.916666666666664
           ],
           "legendgroup": "",
           "lon": [
            -82.91666666666667,
            -83.01666666666667,
            -86.41666666666667,
            -76.25,
            -90.41666666666667
           ],
           "marker": {
            "color": "#636efa",
            "size": [
             45.924813001315286,
             10.728934020995249,
             9.931906634641743,
             43.02040878519169,
             1.66253364206793
            ],
            "sizemode": "area",
            "sizeref": 0.416254559515011,
            "symbol": "circle"
           },
           "mode": "markers",
           "name": "",
           "showlegend": false,
           "type": "scattergeo"
          }
         ],
         "name": "2012"
        },
        {
         "data": [
          {
           "geo": "geo",
           "hovertemplate": "<b>%{hovertext}</b><br><br>Year=2013<br>PFOS (ug/kg)=%{marker.size}<br>Latitude=%{lat}<br>Longitude=%{lon}<extra></extra>",
           "hovertext": [
            "Erie",
            "Huron",
            "Michigan",
            "Ontario",
            "Superior"
           ],
           "lat": [
            42.416666666666664,
            44.083333333333336,
            44.75,
            43.416666666666664,
            47.416666666666664
           ],
           "legendgroup": "",
           "lon": [
            -79.58333333333333,
            -82.75,
            -87.08333333333333,
            -77.91666666666667,
            -87.58333333333333
           ],
           "marker": {
            "color": "#636efa",
            "size": [
             166.5018238060044,
             35.775758688203595,
             39.967274473025704,
             65.56584292484733,
             3.9533828657576477
            ],
            "sizemode": "area",
            "sizeref": 0.416254559515011,
            "symbol": "circle"
           },
           "mode": "markers",
           "name": "",
           "showlegend": false,
           "type": "scattergeo"
          }
         ],
         "name": "2013"
        },
        {
         "data": [
          {
           "geo": "geo",
           "hovertemplate": "<b>%{hovertext}</b><br><br>Year=2014<br>PFOS (ug/kg)=%{marker.size}<br>Latitude=%{lat}<br>Longitude=%{lon}<extra></extra>",
           "hovertext": [
            "Erie",
            "Huron",
            "Michigan",
            "Ontario",
            "Superior"
           ],
           "lat": [
            41.583333333333336,
            45.25,
            42.583333333333336,
            43.583333333333336,
            46.916666666666664
           ],
           "legendgroup": "",
           "lon": [
            -82.91666666666667,
            -83.01666666666667,
            -86.41666666666667,
            -76.25,
            -90.41666666666667
           ],
           "marker": {
            "color": "#636efa",
            "size": [
             47.072885798200005,
             15.945323319599998,
             45.758477561999996,
             75.57197782120001,
             8.230618613839999
            ],
            "sizemode": "area",
            "sizeref": 0.416254559515011,
            "symbol": "circle"
           },
           "mode": "markers",
           "name": "",
           "showlegend": false,
           "type": "scattergeo"
          }
         ],
         "name": "2014"
        },
        {
         "data": [
          {
           "geo": "geo",
           "hovertemplate": "<b>%{hovertext}</b><br><br>Year=2015<br>PFOS (ug/kg)=%{marker.size}<br>Latitude=%{lat}<br>Longitude=%{lon}<extra></extra>",
           "hovertext": [
            "Erie",
            "Huron",
            "Michigan",
            "Ontario",
            "Superior"
           ],
           "lat": [
            42.416666666666664,
            44.083333333333336,
            44.75,
            43.416666666666664,
            47.416666666666664
           ],
           "legendgroup": "",
           "lon": [
            -79.58333333333333,
            -82.75,
            -87.08333333333333,
            -77.91666666666667,
            -87.58333333333333
           ],
           "marker": {
            "color": "#636efa",
            "size": [
             106.50401072705638,
             23.72776946063782,
             29.04213964086484,
             63.6782723642191,
             5.09222668840576
            ],
            "sizemode": "area",
            "sizeref": 0.416254559515011,
            "symbol": "circle"
           },
           "mode": "markers",
           "name": "",
           "showlegend": false,
           "type": "scattergeo"
          }
         ],
         "name": "2015"
        },
        {
         "data": [
          {
           "geo": "geo",
           "hovertemplate": "<b>%{hovertext}</b><br><br>Year=2016<br>PFOS (ug/kg)=%{marker.size}<br>Latitude=%{lat}<br>Longitude=%{lon}<extra></extra>",
           "hovertext": [
            "Erie",
            "Huron",
            "Michigan",
            "Ontario",
            "Superior"
           ],
           "lat": [
            41.583333333333336,
            45.25,
            42.583333333333336,
            43.583333333333336,
            46.916666666666664
           ],
           "legendgroup": "",
           "lon": [
            -82.91666666666667,
            -83.01666666666667,
            -86.41666666666667,
            -76.25,
            -90.41666666666667
           ],
           "marker": {
            "color": "#636efa",
            "size": [
             60.96402756281226,
             18.81993524512998,
             27.51629891898698,
             63.37337759390751,
             5.50376511479086
            ],
            "sizemode": "area",
            "sizeref": 0.416254559515011,
            "symbol": "circle"
           },
           "mode": "markers",
           "name": "",
           "showlegend": false,
           "type": "scattergeo"
          }
         ],
         "name": "2016"
        },
        {
         "data": [
          {
           "geo": "geo",
           "hovertemplate": "<b>%{hovertext}</b><br><br>Year=2017<br>PFOS (ug/kg)=%{marker.size}<br>Latitude=%{lat}<br>Longitude=%{lon}<extra></extra>",
           "hovertext": [
            "Erie",
            "Huron",
            "Michigan",
            "Ontario",
            "Superior"
           ],
           "lat": [
            42.416666666666664,
            44.083333333333336,
            44.75,
            43.416666666666664,
            47.416666666666664
           ],
           "legendgroup": "",
           "lon": [
            -79.58333333333333,
            -82.75,
            -87.08333333333333,
            -77.91666666666667,
            -87.58333333333333
           ],
           "marker": {
            "color": "#636efa",
            "size": [
             84.27198681385298,
             23.5002029809995,
             37.51482562936022,
             47.269438072915264,
             6.08547678128001
            ],
            "sizemode": "area",
            "sizeref": 0.416254559515011,
            "symbol": "circle"
           },
           "mode": "markers",
           "name": "",
           "showlegend": false,
           "type": "scattergeo"
          }
         ],
         "name": "2017"
        },
        {
         "data": [
          {
           "geo": "geo",
           "hovertemplate": "<b>%{hovertext}</b><br><br>Year=2018<br>PFOS (ug/kg)=%{marker.size}<br>Latitude=%{lat}<br>Longitude=%{lon}<extra></extra>",
           "hovertext": [
            "Erie",
            "Huron",
            "Michigan",
            "Ontario",
            "Superior"
           ],
           "lat": [
            41.583333333333336,
            45.25,
            42.583333333333336,
            43.583333333333336,
            46.916666666666664
           ],
           "legendgroup": "",
           "lon": [
            -82.91666666666667,
            -83.01666666666667,
            -86.41666666666667,
            -76.25,
            -90.41666666666667
           ],
           "marker": {
            "color": "#636efa",
            "size": [
             19.43037286514244,
             10.835256068319927,
             25.686815372323498,
             49.33552022220378,
             5.344240357257545
            ],
            "sizemode": "area",
            "sizeref": 0.416254559515011,
            "symbol": "circle"
           },
           "mode": "markers",
           "name": "",
           "showlegend": false,
           "type": "scattergeo"
          }
         ],
         "name": "2018"
        },
        {
         "data": [
          {
           "geo": "geo",
           "hovertemplate": "<b>%{hovertext}</b><br><br>Year=2019<br>PFOS (ug/kg)=%{marker.size}<br>Latitude=%{lat}<br>Longitude=%{lon}<extra></extra>",
           "hovertext": [
            "Erie",
            "Huron",
            "Michigan",
            "Ontario",
            "Superior"
           ],
           "lat": [
            42.416666666666664,
            44.083333333333336,
            44.75,
            43.416666666666664,
            47.416666666666664
           ],
           "legendgroup": "",
           "lon": [
            -79.58333333333333,
            -82.75,
            -87.08333333333333,
            -77.91666666666667,
            -87.58333333333333
           ],
           "marker": {
            "color": "#636efa",
            "size": [
             66.78409901896728,
             12.118695139202082,
             16.953038174734377,
             52.02089339707893,
             3.6168419908861282
            ],
            "sizemode": "area",
            "sizeref": 0.416254559515011,
            "symbol": "circle"
           },
           "mode": "markers",
           "name": "",
           "showlegend": false,
           "type": "scattergeo"
          }
         ],
         "name": "2019"
        },
        {
         "data": [
          {
           "geo": "geo",
           "hovertemplate": "<b>%{hovertext}</b><br><br>Year=2020<br>PFOS (ug/kg)=%{marker.size}<br>Latitude=%{lat}<br>Longitude=%{lon}<extra></extra>",
           "hovertext": [
            "Erie",
            "Huron",
            "Michigan",
            "Ontario",
            "Superior"
           ],
           "lat": [
            41.583333333333336,
            45.25,
            42.583333333333336,
            43.583333333333336,
            46.916666666666664
           ],
           "legendgroup": "",
           "lon": [
            -82.91666666666667,
            -83.01666666666667,
            -86.41666666666667,
            -76.25,
            -90.41666666666667
           ],
           "marker": {
            "color": "#636efa",
            "size": [
             19.6182547575984,
             18.9251614121577,
             34.46481287067828,
             32.032956062951044,
             5.554537094448269
            ],
            "sizemode": "area",
            "sizeref": 0.416254559515011,
            "symbol": "circle"
           },
           "mode": "markers",
           "name": "",
           "showlegend": false,
           "type": "scattergeo"
          }
         ],
         "name": "2020"
        },
        {
         "data": [
          {
           "geo": "geo",
           "hovertemplate": "<b>%{hovertext}</b><br><br>Year=2021<br>PFOS (ug/kg)=%{marker.size}<br>Latitude=%{lat}<br>Longitude=%{lon}<extra></extra>",
           "hovertext": [
            "Erie",
            "Huron",
            "Michigan",
            "Ontario",
            "Superior"
           ],
           "lat": [
            42.416666666666664,
            44.083333333333336,
            44.75,
            43.416666666666664,
            47.416666666666664
           ],
           "legendgroup": "",
           "lon": [
            -79.58333333333333,
            -82.75,
            -87.08333333333333,
            -77.91666666666667,
            -87.58333333333333
           ],
           "marker": {
            "color": "#636efa",
            "size": [
             76.15171,
             24.780228847,
             20.389071325,
             29.068372999999998,
             3.903428571428571
            ],
            "sizemode": "area",
            "sizeref": 0.416254559515011,
            "symbol": "circle"
           },
           "mode": "markers",
           "name": "",
           "showlegend": false,
           "type": "scattergeo"
          }
         ],
         "name": "2021"
        },
        {
         "data": [
          {
           "geo": "geo",
           "hovertemplate": "<b>%{hovertext}</b><br><br>Year=2022<br>PFOS (ug/kg)=%{marker.size}<br>Latitude=%{lat}<br>Longitude=%{lon}<extra></extra>",
           "hovertext": [
            "Erie",
            "Huron",
            "Michigan",
            "Ontario",
            "Superior"
           ],
           "lat": [
            41.583333333333336,
            45.25,
            42.583333333333336,
            43.583333333333336,
            46.916666666666664
           ],
           "legendgroup": "",
           "lon": [
            -82.91666666666667,
            -83.01666666666667,
            -86.41666666666667,
            -76.25,
            -90.41666666666667
           ],
           "marker": {
            "color": "#636efa",
            "size": [
             12.495904,
             20.139699999999998,
             22.727941372000004,
             21.479532000000003,
             4.8595
            ],
            "sizemode": "area",
            "sizeref": 0.416254559515011,
            "symbol": "circle"
           },
           "mode": "markers",
           "name": "",
           "showlegend": false,
           "type": "scattergeo"
          }
         ],
         "name": "2022"
        }
       ],
       "layout": {
        "autosize": true,
        "geo": {
         "center": {},
         "domain": {
          "x": [
           0,
           1
          ],
          "y": [
           0,
           1
          ]
         },
         "scope": "north america"
        },
        "legend": {
         "itemsizing": "constant",
         "tracegroupgap": 0
        },
        "sliders": [
         {
          "active": 0,
          "currentvalue": {
           "prefix": "Year="
          },
          "len": 0.9,
          "pad": {
           "b": 10,
           "t": 60
          },
          "steps": [
           {
            "args": [
             [
              "2011"
             ],
             {
              "frame": {
               "duration": 0,
               "redraw": true
              },
              "fromcurrent": true,
              "mode": "immediate",
              "transition": {
               "duration": 0,
               "easing": "linear"
              }
             }
            ],
            "label": "2011",
            "method": "animate"
           },
           {
            "args": [
             [
              "2012"
             ],
             {
              "frame": {
               "duration": 0,
               "redraw": true
              },
              "fromcurrent": true,
              "mode": "immediate",
              "transition": {
               "duration": 0,
               "easing": "linear"
              }
             }
            ],
            "label": "2012",
            "method": "animate"
           },
           {
            "args": [
             [
              "2013"
             ],
             {
              "frame": {
               "duration": 0,
               "redraw": true
              },
              "fromcurrent": true,
              "mode": "immediate",
              "transition": {
               "duration": 0,
               "easing": "linear"
              }
             }
            ],
            "label": "2013",
            "method": "animate"
           },
           {
            "args": [
             [
              "2014"
             ],
             {
              "frame": {
               "duration": 0,
               "redraw": true
              },
              "fromcurrent": true,
              "mode": "immediate",
              "transition": {
               "duration": 0,
               "easing": "linear"
              }
             }
            ],
            "label": "2014",
            "method": "animate"
           },
           {
            "args": [
             [
              "2015"
             ],
             {
              "frame": {
               "duration": 0,
               "redraw": true
              },
              "fromcurrent": true,
              "mode": "immediate",
              "transition": {
               "duration": 0,
               "easing": "linear"
              }
             }
            ],
            "label": "2015",
            "method": "animate"
           },
           {
            "args": [
             [
              "2016"
             ],
             {
              "frame": {
               "duration": 0,
               "redraw": true
              },
              "fromcurrent": true,
              "mode": "immediate",
              "transition": {
               "duration": 0,
               "easing": "linear"
              }
             }
            ],
            "label": "2016",
            "method": "animate"
           },
           {
            "args": [
             [
              "2017"
             ],
             {
              "frame": {
               "duration": 0,
               "redraw": true
              },
              "fromcurrent": true,
              "mode": "immediate",
              "transition": {
               "duration": 0,
               "easing": "linear"
              }
             }
            ],
            "label": "2017",
            "method": "animate"
           },
           {
            "args": [
             [
              "2018"
             ],
             {
              "frame": {
               "duration": 0,
               "redraw": true
              },
              "fromcurrent": true,
              "mode": "immediate",
              "transition": {
               "duration": 0,
               "easing": "linear"
              }
             }
            ],
            "label": "2018",
            "method": "animate"
           },
           {
            "args": [
             [
              "2019"
             ],
             {
              "frame": {
               "duration": 0,
               "redraw": true
              },
              "fromcurrent": true,
              "mode": "immediate",
              "transition": {
               "duration": 0,
               "easing": "linear"
              }
             }
            ],
            "label": "2019",
            "method": "animate"
           },
           {
            "args": [
             [
              "2020"
             ],
             {
              "frame": {
               "duration": 0,
               "redraw": true
              },
              "fromcurrent": true,
              "mode": "immediate",
              "transition": {
               "duration": 0,
               "easing": "linear"
              }
             }
            ],
            "label": "2020",
            "method": "animate"
           },
           {
            "args": [
             [
              "2021"
             ],
             {
              "frame": {
               "duration": 0,
               "redraw": true
              },
              "fromcurrent": true,
              "mode": "immediate",
              "transition": {
               "duration": 0,
               "easing": "linear"
              }
             }
            ],
            "label": "2021",
            "method": "animate"
           },
           {
            "args": [
             [
              "2022"
             ],
             {
              "frame": {
               "duration": 0,
               "redraw": true
              },
              "fromcurrent": true,
              "mode": "immediate",
              "transition": {
               "duration": 0,
               "easing": "linear"
              }
             }
            ],
            "label": "2022",
            "method": "animate"
           }
          ],
          "x": 0.1,
          "xanchor": "left",
          "y": 0,
          "yanchor": "top"
         }
        ],
        "template": {
         "data": {
          "bar": [
           {
            "error_x": {
             "color": "#2a3f5f"
            },
            "error_y": {
             "color": "#2a3f5f"
            },
            "marker": {
             "line": {
              "color": "#E5ECF6",
              "width": 0.5
             },
             "pattern": {
              "fillmode": "overlay",
              "size": 10,
              "solidity": 0.2
             }
            },
            "type": "bar"
           }
          ],
          "barpolar": [
           {
            "marker": {
             "line": {
              "color": "#E5ECF6",
              "width": 0.5
             },
             "pattern": {
              "fillmode": "overlay",
              "size": 10,
              "solidity": 0.2
             }
            },
            "type": "barpolar"
           }
          ],
          "carpet": [
           {
            "aaxis": {
             "endlinecolor": "#2a3f5f",
             "gridcolor": "white",
             "linecolor": "white",
             "minorgridcolor": "white",
             "startlinecolor": "#2a3f5f"
            },
            "baxis": {
             "endlinecolor": "#2a3f5f",
             "gridcolor": "white",
             "linecolor": "white",
             "minorgridcolor": "white",
             "startlinecolor": "#2a3f5f"
            },
            "type": "carpet"
           }
          ],
          "choropleth": [
           {
            "colorbar": {
             "outlinewidth": 0,
             "ticks": ""
            },
            "type": "choropleth"
           }
          ],
          "contour": [
           {
            "colorbar": {
             "outlinewidth": 0,
             "ticks": ""
            },
            "colorscale": [
             [
              0,
              "#0d0887"
             ],
             [
              0.1111111111111111,
              "#46039f"
             ],
             [
              0.2222222222222222,
              "#7201a8"
             ],
             [
              0.3333333333333333,
              "#9c179e"
             ],
             [
              0.4444444444444444,
              "#bd3786"
             ],
             [
              0.5555555555555556,
              "#d8576b"
             ],
             [
              0.6666666666666666,
              "#ed7953"
             ],
             [
              0.7777777777777778,
              "#fb9f3a"
             ],
             [
              0.8888888888888888,
              "#fdca26"
             ],
             [
              1,
              "#f0f921"
             ]
            ],
            "type": "contour"
           }
          ],
          "contourcarpet": [
           {
            "colorbar": {
             "outlinewidth": 0,
             "ticks": ""
            },
            "type": "contourcarpet"
           }
          ],
          "heatmap": [
           {
            "colorbar": {
             "outlinewidth": 0,
             "ticks": ""
            },
            "colorscale": [
             [
              0,
              "#0d0887"
             ],
             [
              0.1111111111111111,
              "#46039f"
             ],
             [
              0.2222222222222222,
              "#7201a8"
             ],
             [
              0.3333333333333333,
              "#9c179e"
             ],
             [
              0.4444444444444444,
              "#bd3786"
             ],
             [
              0.5555555555555556,
              "#d8576b"
             ],
             [
              0.6666666666666666,
              "#ed7953"
             ],
             [
              0.7777777777777778,
              "#fb9f3a"
             ],
             [
              0.8888888888888888,
              "#fdca26"
             ],
             [
              1,
              "#f0f921"
             ]
            ],
            "type": "heatmap"
           }
          ],
          "heatmapgl": [
           {
            "colorbar": {
             "outlinewidth": 0,
             "ticks": ""
            },
            "colorscale": [
             [
              0,
              "#0d0887"
             ],
             [
              0.1111111111111111,
              "#46039f"
             ],
             [
              0.2222222222222222,
              "#7201a8"
             ],
             [
              0.3333333333333333,
              "#9c179e"
             ],
             [
              0.4444444444444444,
              "#bd3786"
             ],
             [
              0.5555555555555556,
              "#d8576b"
             ],
             [
              0.6666666666666666,
              "#ed7953"
             ],
             [
              0.7777777777777778,
              "#fb9f3a"
             ],
             [
              0.8888888888888888,
              "#fdca26"
             ],
             [
              1,
              "#f0f921"
             ]
            ],
            "type": "heatmapgl"
           }
          ],
          "histogram": [
           {
            "marker": {
             "pattern": {
              "fillmode": "overlay",
              "size": 10,
              "solidity": 0.2
             }
            },
            "type": "histogram"
           }
          ],
          "histogram2d": [
           {
            "colorbar": {
             "outlinewidth": 0,
             "ticks": ""
            },
            "colorscale": [
             [
              0,
              "#0d0887"
             ],
             [
              0.1111111111111111,
              "#46039f"
             ],
             [
              0.2222222222222222,
              "#7201a8"
             ],
             [
              0.3333333333333333,
              "#9c179e"
             ],
             [
              0.4444444444444444,
              "#bd3786"
             ],
             [
              0.5555555555555556,
              "#d8576b"
             ],
             [
              0.6666666666666666,
              "#ed7953"
             ],
             [
              0.7777777777777778,
              "#fb9f3a"
             ],
             [
              0.8888888888888888,
              "#fdca26"
             ],
             [
              1,
              "#f0f921"
             ]
            ],
            "type": "histogram2d"
           }
          ],
          "histogram2dcontour": [
           {
            "colorbar": {
             "outlinewidth": 0,
             "ticks": ""
            },
            "colorscale": [
             [
              0,
              "#0d0887"
             ],
             [
              0.1111111111111111,
              "#46039f"
             ],
             [
              0.2222222222222222,
              "#7201a8"
             ],
             [
              0.3333333333333333,
              "#9c179e"
             ],
             [
              0.4444444444444444,
              "#bd3786"
             ],
             [
              0.5555555555555556,
              "#d8576b"
             ],
             [
              0.6666666666666666,
              "#ed7953"
             ],
             [
              0.7777777777777778,
              "#fb9f3a"
             ],
             [
              0.8888888888888888,
              "#fdca26"
             ],
             [
              1,
              "#f0f921"
             ]
            ],
            "type": "histogram2dcontour"
           }
          ],
          "mesh3d": [
           {
            "colorbar": {
             "outlinewidth": 0,
             "ticks": ""
            },
            "type": "mesh3d"
           }
          ],
          "parcoords": [
           {
            "line": {
             "colorbar": {
              "outlinewidth": 0,
              "ticks": ""
             }
            },
            "type": "parcoords"
           }
          ],
          "pie": [
           {
            "automargin": true,
            "type": "pie"
           }
          ],
          "scatter": [
           {
            "fillpattern": {
             "fillmode": "overlay",
             "size": 10,
             "solidity": 0.2
            },
            "type": "scatter"
           }
          ],
          "scatter3d": [
           {
            "line": {
             "colorbar": {
              "outlinewidth": 0,
              "ticks": ""
             }
            },
            "marker": {
             "colorbar": {
              "outlinewidth": 0,
              "ticks": ""
             }
            },
            "type": "scatter3d"
           }
          ],
          "scattercarpet": [
           {
            "marker": {
             "colorbar": {
              "outlinewidth": 0,
              "ticks": ""
             }
            },
            "type": "scattercarpet"
           }
          ],
          "scattergeo": [
           {
            "marker": {
             "colorbar": {
              "outlinewidth": 0,
              "ticks": ""
             }
            },
            "type": "scattergeo"
           }
          ],
          "scattergl": [
           {
            "marker": {
             "colorbar": {
              "outlinewidth": 0,
              "ticks": ""
             }
            },
            "type": "scattergl"
           }
          ],
          "scattermapbox": [
           {
            "marker": {
             "colorbar": {
              "outlinewidth": 0,
              "ticks": ""
             }
            },
            "type": "scattermapbox"
           }
          ],
          "scatterpolar": [
           {
            "marker": {
             "colorbar": {
              "outlinewidth": 0,
              "ticks": ""
             }
            },
            "type": "scatterpolar"
           }
          ],
          "scatterpolargl": [
           {
            "marker": {
             "colorbar": {
              "outlinewidth": 0,
              "ticks": ""
             }
            },
            "type": "scatterpolargl"
           }
          ],
          "scatterternary": [
           {
            "marker": {
             "colorbar": {
              "outlinewidth": 0,
              "ticks": ""
             }
            },
            "type": "scatterternary"
           }
          ],
          "surface": [
           {
            "colorbar": {
             "outlinewidth": 0,
             "ticks": ""
            },
            "colorscale": [
             [
              0,
              "#0d0887"
             ],
             [
              0.1111111111111111,
              "#46039f"
             ],
             [
              0.2222222222222222,
              "#7201a8"
             ],
             [
              0.3333333333333333,
              "#9c179e"
             ],
             [
              0.4444444444444444,
              "#bd3786"
             ],
             [
              0.5555555555555556,
              "#d8576b"
             ],
             [
              0.6666666666666666,
              "#ed7953"
             ],
             [
              0.7777777777777778,
              "#fb9f3a"
             ],
             [
              0.8888888888888888,
              "#fdca26"
             ],
             [
              1,
              "#f0f921"
             ]
            ],
            "type": "surface"
           }
          ],
          "table": [
           {
            "cells": {
             "fill": {
              "color": "#EBF0F8"
             },
             "line": {
              "color": "white"
             }
            },
            "header": {
             "fill": {
              "color": "#C8D4E3"
             },
             "line": {
              "color": "white"
             }
            },
            "type": "table"
           }
          ]
         },
         "layout": {
          "annotationdefaults": {
           "arrowcolor": "#2a3f5f",
           "arrowhead": 0,
           "arrowwidth": 1
          },
          "autotypenumbers": "strict",
          "coloraxis": {
           "colorbar": {
            "outlinewidth": 0,
            "ticks": ""
           }
          },
          "colorscale": {
           "diverging": [
            [
             0,
             "#8e0152"
            ],
            [
             0.1,
             "#c51b7d"
            ],
            [
             0.2,
             "#de77ae"
            ],
            [
             0.3,
             "#f1b6da"
            ],
            [
             0.4,
             "#fde0ef"
            ],
            [
             0.5,
             "#f7f7f7"
            ],
            [
             0.6,
             "#e6f5d0"
            ],
            [
             0.7,
             "#b8e186"
            ],
            [
             0.8,
             "#7fbc41"
            ],
            [
             0.9,
             "#4d9221"
            ],
            [
             1,
             "#276419"
            ]
           ],
           "sequential": [
            [
             0,
             "#0d0887"
            ],
            [
             0.1111111111111111,
             "#46039f"
            ],
            [
             0.2222222222222222,
             "#7201a8"
            ],
            [
             0.3333333333333333,
             "#9c179e"
            ],
            [
             0.4444444444444444,
             "#bd3786"
            ],
            [
             0.5555555555555556,
             "#d8576b"
            ],
            [
             0.6666666666666666,
             "#ed7953"
            ],
            [
             0.7777777777777778,
             "#fb9f3a"
            ],
            [
             0.8888888888888888,
             "#fdca26"
            ],
            [
             1,
             "#f0f921"
            ]
           ],
           "sequentialminus": [
            [
             0,
             "#0d0887"
            ],
            [
             0.1111111111111111,
             "#46039f"
            ],
            [
             0.2222222222222222,
             "#7201a8"
            ],
            [
             0.3333333333333333,
             "#9c179e"
            ],
            [
             0.4444444444444444,
             "#bd3786"
            ],
            [
             0.5555555555555556,
             "#d8576b"
            ],
            [
             0.6666666666666666,
             "#ed7953"
            ],
            [
             0.7777777777777778,
             "#fb9f3a"
            ],
            [
             0.8888888888888888,
             "#fdca26"
            ],
            [
             1,
             "#f0f921"
            ]
           ]
          },
          "colorway": [
           "#636efa",
           "#EF553B",
           "#00cc96",
           "#ab63fa",
           "#FFA15A",
           "#19d3f3",
           "#FF6692",
           "#B6E880",
           "#FF97FF",
           "#FECB52"
          ],
          "font": {
           "color": "#2a3f5f"
          },
          "geo": {
           "bgcolor": "white",
           "lakecolor": "white",
           "landcolor": "#E5ECF6",
           "showlakes": true,
           "showland": true,
           "subunitcolor": "white"
          },
          "hoverlabel": {
           "align": "left"
          },
          "hovermode": "closest",
          "mapbox": {
           "style": "light"
          },
          "paper_bgcolor": "white",
          "plot_bgcolor": "#E5ECF6",
          "polar": {
           "angularaxis": {
            "gridcolor": "white",
            "linecolor": "white",
            "ticks": ""
           },
           "bgcolor": "#E5ECF6",
           "radialaxis": {
            "gridcolor": "white",
            "linecolor": "white",
            "ticks": ""
           }
          },
          "scene": {
           "xaxis": {
            "backgroundcolor": "#E5ECF6",
            "gridcolor": "white",
            "gridwidth": 2,
            "linecolor": "white",
            "showbackground": true,
            "ticks": "",
            "zerolinecolor": "white"
           },
           "yaxis": {
            "backgroundcolor": "#E5ECF6",
            "gridcolor": "white",
            "gridwidth": 2,
            "linecolor": "white",
            "showbackground": true,
            "ticks": "",
            "zerolinecolor": "white"
           },
           "zaxis": {
            "backgroundcolor": "#E5ECF6",
            "gridcolor": "white",
            "gridwidth": 2,
            "linecolor": "white",
            "showbackground": true,
            "ticks": "",
            "zerolinecolor": "white"
           }
          },
          "shapedefaults": {
           "line": {
            "color": "#2a3f5f"
           }
          },
          "ternary": {
           "aaxis": {
            "gridcolor": "white",
            "linecolor": "white",
            "ticks": ""
           },
           "baxis": {
            "gridcolor": "white",
            "linecolor": "white",
            "ticks": ""
           },
           "bgcolor": "#E5ECF6",
           "caxis": {
            "gridcolor": "white",
            "linecolor": "white",
            "ticks": ""
           }
          },
          "title": {
           "x": 0.05
          },
          "xaxis": {
           "automargin": true,
           "gridcolor": "white",
           "linecolor": "white",
           "ticks": "",
           "title": {
            "standoff": 15
           },
           "zerolinecolor": "white",
           "zerolinewidth": 2
          },
          "yaxis": {
           "automargin": true,
           "gridcolor": "white",
           "linecolor": "white",
           "ticks": "",
           "title": {
            "standoff": 15
           },
           "zerolinecolor": "white",
           "zerolinewidth": 2
          }
         }
        },
        "title": {
         "text": "Great Lakes"
        },
        "updatemenus": [
         {
          "buttons": [
           {
            "args": [
             null,
             {
              "frame": {
               "duration": 500,
               "redraw": true
              },
              "fromcurrent": true,
              "mode": "immediate",
              "transition": {
               "duration": 500,
               "easing": "linear"
              }
             }
            ],
            "label": "&#9654;",
            "method": "animate"
           },
           {
            "args": [
             [
              null
             ],
             {
              "frame": {
               "duration": 0,
               "redraw": true
              },
              "fromcurrent": true,
              "mode": "immediate",
              "transition": {
               "duration": 0,
               "easing": "linear"
              }
             }
            ],
            "label": "&#9724;",
            "method": "animate"
           }
          ],
          "direction": "left",
          "pad": {
           "r": 10,
           "t": 70
          },
          "showactive": false,
          "type": "buttons",
          "x": 0.1,
          "xanchor": "right",
          "y": 0,
          "yanchor": "top"
         }
        ]
       }
      },
      "image/png": "[encoded data removed]",
      "text/html": [
       "<div>                            <div id=\"dc699820-c6a5-4ec4-b2a8-668a02ba884a\" class=\"plotly-graph-div\" style=\"height:525px; width:100%;\"></div>            <script type=\"text/javascript\">                require([\"plotly\"], function(Plotly) {                    window.PLOTLYENV=window.PLOTLYENV || {};                                    if (document.getElementById(\"dc699820-c6a5-4ec4-b2a8-668a02ba884a\")) {                    Plotly.newPlot(                        \"dc699820-c6a5-4ec4-b2a8-668a02ba884a\",                        [{\"geo\":\"geo\",\"hovertemplate\":\"\\u003cb\\u003e%{hovertext}\\u003c\\u002fb\\u003e\\u003cbr\\u003e\\u003cbr\\u003eYear=2011\\u003cbr\\u003ePFOS (ug\\u002fkg)=%{marker.size}\\u003cbr\\u003eLatitude=%{lat}\\u003cbr\\u003eLongitude=%{lon}\\u003cextra\\u003e\\u003c\\u002fextra\\u003e\",\"hovertext\":[\"Erie\",\"Huron\",\"Michigan\",\"Ontario\",\"Superior\"],\"lat\":[42.416666666666664,44.083333333333336,44.75,43.416666666666664,47.416666666666664],\"legendgroup\":\"\",\"lon\":[-79.58333333333333,-82.75,-87.08333333333333,-77.91666666666667,-87.58333333333333],\"marker\":{\"color\":\"#636efa\",\"size\":[59.48036016306882,7.134971391513173,13.27191883923046,16.917974694719074,1.5455623326667227],\"sizemode\":\"area\",\"sizeref\":0.416254559515011,\"symbol\":\"circle\"},\"mode\":\"markers\",\"name\":\"\",\"showlegend\":false,\"type\":\"scattergeo\"}],                        {\"template\":{\"data\":{\"histogram2dcontour\":[{\"type\":\"histogram2dcontour\",\"colorbar\":{\"outlinewidth\":0,\"ticks\":\"\"},\"colorscale\":[[0.0,\"#0d0887\"],[0.1111111111111111,\"#46039f\"],[0.2222222222222222,\"#7201a8\"],[0.3333333333333333,\"#9c179e\"],[0.4444444444444444,\"#bd3786\"],[0.5555555555555556,\"#d8576b\"],[0.6666666666666666,\"#ed7953\"],[0.7777777777777778,\"#fb9f3a\"],[0.8888888888888888,\"#fdca26\"],[1.0,\"#f0f921\"]]}],\"choropleth\":[{\"type\":\"choropleth\",\"colorbar\":{\"outlinewidth\":0,\"ticks\":\"\"}}],\"histogram2d\":[{\"type\":\"histogram2d\",\"colorbar\":{\"outlinewidth\":0,\"ticks\":\"\"},\"colorscale\":[[0.0,\"#0d0887\"],[0.1111111111111111,\"#46039f\"],[0.2222222222222222,\"#7201a8\"],[0.3333333333333333,\"#9c179e\"],[0.4444444444444444,\"#bd3786\"],[0.5555555555555556,\"#d8576b\"],[0.6666666666666666,\"#ed7953\"],[0.7777777777777778,\"#fb9f3a\"],[0.8888888888888888,\"#fdca26\"],[1.0,\"#f0f921\"]]}],\"heatmap\":[{\"type\":\"heatmap\",\"colorbar\":{\"outlinewidth\":0,\"ticks\":\"\"},\"colorscale\":[[0.0,\"#0d0887\"],[0.1111111111111111,\"#46039f\"],[0.2222222222222222,\"#7201a8\"],[0.3333333333333333,\"#9c179e\"],[0.4444444444444444,\"#bd3786\"],[0.5555555555555556,\"#d8576b\"],[0.6666666666666666,\"#ed7953\"],[0.7777777777777778,\"#fb9f3a\"],[0.8888888888888888,\"#fdca26\"],[1.0,\"#f0f921\"]]}],\"heatmapgl\":[{\"type\":\"heatmapgl\",\"colorbar\":{\"outlinewidth\":0,\"ticks\":\"\"},\"colorscale\":[[0.0,\"#0d0887\"],[0.1111111111111111,\"#46039f\"],[0.2222222222222222,\"#7201a8\"],[0.3333333333333333,\"#9c179e\"],[0.4444444444444444,\"#bd3786\"],[0.5555555555555556,\"#d8576b\"],[0.6666666666666666,\"#ed7953\"],[0.7777777777777778,\"#fb9f3a\"],[0.8888888888888888,\"#fdca26\"],[1.0,\"#f0f921\"]]}],\"contourcarpet\":[{\"type\":\"contourcarpet\",\"colorbar\":{\"outlinewidth\":0,\"ticks\":\"\"}}],\"contour\":[{\"type\":\"contour\",\"colorbar\":{\"outlinewidth\":0,\"ticks\":\"\"},\"colorscale\":[[0.0,\"#0d0887\"],[0.1111111111111111,\"#46039f\"],[0.2222222222222222,\"#7201a8\"],[0.3333333333333333,\"#9c179e\"],[0.4444444444444444,\"#bd3786\"],[0.5555555555555556,\"#d8576b\"],[0.6666666666666666,\"#ed7953\"],[0.7777777777777778,\"#fb9f3a\"],[0.8888888888888888,\"#fdca26\"],[1.0,\"#f0f921\"]]}],\"surface\":[{\"type\":\"surface\",\"colorbar\":{\"outlinewidth\":0,\"ticks\":\"\"},\"colorscale\":[[0.0,\"#0d0887\"],[0.1111111111111111,\"#46039f\"],[0.2222222222222222,\"#7201a8\"],[0.3333333333333333,\"#9c179e\"],[0.4444444444444444,\"#bd3786\"],[0.5555555555555556,\"#d8576b\"],[0.6666666666666666,\"#ed7953\"],[0.7777777777777778,\"#fb9f3a\"],[0.8888888888888888,\"#fdca26\"],[1.0,\"#f0f921\"]]}],\"mesh3d\":[{\"type\":\"mesh3d\",\"colorbar\":{\"outlinewidth\":0,\"ticks\":\"\"}}],\"scatter\":[{\"fillpattern\":{\"fillmode\":\"overlay\",\"size\":10,\"solidity\":0.2},\"type\":\"scatter\"}],\"parcoords\":[{\"type\":\"parcoords\",\"line\":{\"colorbar\":{\"outlinewidth\":0,\"ticks\":\"\"}}}],\"scatterpolargl\":[{\"type\":\"scatterpolargl\",\"marker\":{\"colorbar\":{\"outlinewidth\":0,\"ticks\":\"\"}}}],\"bar\":[{\"error_x\":{\"color\":\"#2a3f5f\"},\"error_y\":{\"color\":\"#2a3f5f\"},\"marker\":{\"line\":{\"color\":\"#E5ECF6\",\"width\":0.5},\"pattern\":{\"fillmode\":\"overlay\",\"size\":10,\"solidity\":0.2}},\"type\":\"bar\"}],\"scattergeo\":[{\"type\":\"scattergeo\",\"marker\":{\"colorbar\":{\"outlinewidth\":0,\"ticks\":\"\"}}}],\"scatterpolar\":[{\"type\":\"scatterpolar\",\"marker\":{\"colorbar\":{\"outlinewidth\":0,\"ticks\":\"\"}}}],\"histogram\":[{\"marker\":{\"pattern\":{\"fillmode\":\"overlay\",\"size\":10,\"solidity\":0.2}},\"type\":\"histogram\"}],\"scattergl\":[{\"type\":\"scattergl\",\"marker\":{\"colorbar\":{\"outlinewidth\":0,\"ticks\":\"\"}}}],\"scatter3d\":[{\"type\":\"scatter3d\",\"line\":{\"colorbar\":{\"outlinewidth\":0,\"ticks\":\"\"}},\"marker\":{\"colorbar\":{\"outlinewidth\":0,\"ticks\":\"\"}}}],\"scattermapbox\":[{\"type\":\"scattermapbox\",\"marker\":{\"colorbar\":{\"outlinewidth\":0,\"ticks\":\"\"}}}],\"scatterternary\":[{\"type\":\"scatterternary\",\"marker\":{\"colorbar\":{\"outlinewidth\":0,\"ticks\":\"\"}}}],\"scattercarpet\":[{\"type\":\"scattercarpet\",\"marker\":{\"colorbar\":{\"outlinewidth\":0,\"ticks\":\"\"}}}],\"carpet\":[{\"aaxis\":{\"endlinecolor\":\"#2a3f5f\",\"gridcolor\":\"white\",\"linecolor\":\"white\",\"minorgridcolor\":\"white\",\"startlinecolor\":\"#2a3f5f\"},\"baxis\":{\"endlinecolor\":\"#2a3f5f\",\"gridcolor\":\"white\",\"linecolor\":\"white\",\"minorgridcolor\":\"white\",\"startlinecolor\":\"#2a3f5f\"},\"type\":\"carpet\"}],\"table\":[{\"cells\":{\"fill\":{\"color\":\"#EBF0F8\"},\"line\":{\"color\":\"white\"}},\"header\":{\"fill\":{\"color\":\"#C8D4E3\"},\"line\":{\"color\":\"white\"}},\"type\":\"table\"}],\"barpolar\":[{\"marker\":{\"line\":{\"color\":\"#E5ECF6\",\"width\":0.5},\"pattern\":{\"fillmode\":\"overlay\",\"size\":10,\"solidity\":0.2}},\"type\":\"barpolar\"}],\"pie\":[{\"automargin\":true,\"type\":\"pie\"}]},\"layout\":{\"autotypenumbers\":\"strict\",\"colorway\":[\"#636efa\",\"#EF553B\",\"#00cc96\",\"#ab63fa\",\"#FFA15A\",\"#19d3f3\",\"#FF6692\",\"#B6E880\",\"#FF97FF\",\"#FECB52\"],\"font\":{\"color\":\"#2a3f5f\"},\"hovermode\":\"closest\",\"hoverlabel\":{\"align\":\"left\"},\"paper_bgcolor\":\"white\",\"plot_bgcolor\":\"#E5ECF6\",\"polar\":{\"bgcolor\":\"#E5ECF6\",\"angularaxis\":{\"gridcolor\":\"white\",\"linecolor\":\"white\",\"ticks\":\"\"},\"radialaxis\":{\"gridcolor\":\"white\",\"linecolor\":\"white\",\"ticks\":\"\"}},\"ternary\":{\"bgcolor\":\"#E5ECF6\",\"aaxis\":{\"gridcolor\":\"white\",\"linecolor\":\"white\",\"ticks\":\"\"},\"baxis\":{\"gridcolor\":\"white\",\"linecolor\":\"white\",\"ticks\":\"\"},\"caxis\":{\"gridcolor\":\"white\",\"linecolor\":\"white\",\"ticks\":\"\"}},\"coloraxis\":{\"colorbar\":{\"outlinewidth\":0,\"ticks\":\"\"}},\"colorscale\":{\"sequential\":[[0.0,\"#0d0887\"],[0.1111111111111111,\"#46039f\"],[0.2222222222222222,\"#7201a8\"],[0.3333333333333333,\"#9c179e\"],[0.4444444444444444,\"#bd3786\"],[0.5555555555555556,\"#d8576b\"],[0.6666666666666666,\"#ed7953\"],[0.7777777777777778,\"#fb9f3a\"],[0.8888888888888888,\"#fdca26\"],[1.0,\"#f0f921\"]],\"sequentialminus\":[[0.0,\"#0d0887\"],[0.1111111111111111,\"#46039f\"],[0.2222222222222222,\"#7201a8\"],[0.3333333333333333,\"#9c179e\"],[0.4444444444444444,\"#bd3786\"],[0.5555555555555556,\"#d8576b\"],[0.6666666666666666,\"#ed7953\"],[0.7777777777777778,\"#fb9f3a\"],[0.8888888888888888,\"#fdca26\"],[1.0,\"#f0f921\"]],\"diverging\":[[0,\"#8e0152\"],[0.1,\"#c51b7d\"],[0.2,\"#de77ae\"],[0.3,\"#f1b6da\"],[0.4,\"#fde0ef\"],[0.5,\"#f7f7f7\"],[0.6,\"#e6f5d0\"],[0.7,\"#b8e186\"],[0.8,\"#7fbc41\"],[0.9,\"#4d9221\"],[1,\"#276419\"]]},\"xaxis\":{\"gridcolor\":\"white\",\"linecolor\":\"white\",\"ticks\":\"\",\"title\":{\"standoff\":15},\"zerolinecolor\":\"white\",\"automargin\":true,\"zerolinewidth\":2},\"yaxis\":{\"gridcolor\":\"white\",\"linecolor\":\"white\",\"ticks\":\"\",\"title\":{\"standoff\":15},\"zerolinecolor\":\"white\",\"automargin\":true,\"zerolinewidth\":2},\"scene\":{\"xaxis\":{\"backgroundcolor\":\"#E5ECF6\",\"gridcolor\":\"white\",\"linecolor\":\"white\",\"showbackground\":true,\"ticks\":\"\",\"zerolinecolor\":\"white\",\"gridwidth\":2},\"yaxis\":{\"backgroundcolor\":\"#E5ECF6\",\"gridcolor\":\"white\",\"linecolor\":\"white\",\"showbackground\":true,\"ticks\":\"\",\"zerolinecolor\":\"white\",\"gridwidth\":2},\"zaxis\":{\"backgroundcolor\":\"#E5ECF6\",\"gridcolor\":\"white\",\"linecolor\":\"white\",\"showbackground\":true,\"ticks\":\"\",\"zerolinecolor\":\"white\",\"gridwidth\":2}},\"shapedefaults\":{\"line\":{\"color\":\"#2a3f5f\"}},\"annotationdefaults\":{\"arrowcolor\":\"#2a3f5f\",\"arrowhead\":0,\"arrowwidth\":1},\"geo\":{\"bgcolor\":\"white\",\"landcolor\":\"#E5ECF6\",\"subunitcolor\":\"white\",\"showland\":true,\"showlakes\":true,\"lakecolor\":\"white\"},\"title\":{\"x\":0.05},\"mapbox\":{\"style\":\"light\"}}},\"geo\":{\"domain\":{\"x\":[0.0,1.0],\"y\":[0.0,1.0]},\"center\":{},\"scope\":\"north america\"},\"legend\":{\"tracegroupgap\":0,\"itemsizing\":\"constant\"},\"title\":{\"text\":\"Great Lakes\"},\"updatemenus\":[{\"buttons\":[{\"args\":[null,{\"frame\":{\"duration\":500,\"redraw\":true},\"mode\":\"immediate\",\"fromcurrent\":true,\"transition\":{\"duration\":500,\"easing\":\"linear\"}}],\"label\":\"&#9654;\",\"method\":\"animate\"},{\"args\":[[null],{\"frame\":{\"duration\":0,\"redraw\":true},\"mode\":\"immediate\",\"fromcurrent\":true,\"transition\":{\"duration\":0,\"easing\":\"linear\"}}],\"label\":\"&#9724;\",\"method\":\"animate\"}],\"direction\":\"left\",\"pad\":{\"r\":10,\"t\":70},\"showactive\":false,\"type\":\"buttons\",\"x\":0.1,\"xanchor\":\"right\",\"y\":0,\"yanchor\":\"top\"}],\"sliders\":[{\"active\":0,\"currentvalue\":{\"prefix\":\"Year=\"},\"len\":0.9,\"pad\":{\"b\":10,\"t\":60},\"steps\":[{\"args\":[[\"2011\"],{\"frame\":{\"duration\":0,\"redraw\":true},\"mode\":\"immediate\",\"fromcurrent\":true,\"transition\":{\"duration\":0,\"easing\":\"linear\"}}],\"label\":\"2011\",\"method\":\"animate\"},{\"args\":[[\"2012\"],{\"frame\":{\"duration\":0,\"redraw\":true},\"mode\":\"immediate\",\"fromcurrent\":true,\"transition\":{\"duration\":0,\"easing\":\"linear\"}}],\"label\":\"2012\",\"method\":\"animate\"},{\"args\":[[\"2013\"],{\"frame\":{\"duration\":0,\"redraw\":true},\"mode\":\"immediate\",\"fromcurrent\":true,\"transition\":{\"duration\":0,\"easing\":\"linear\"}}],\"label\":\"2013\",\"method\":\"animate\"},{\"args\":[[\"2014\"],{\"frame\":{\"duration\":0,\"redraw\":true},\"mode\":\"immediate\",\"fromcurrent\":true,\"transition\":{\"duration\":0,\"easing\":\"linear\"}}],\"label\":\"2014\",\"method\":\"animate\"},{\"args\":[[\"2015\"],{\"frame\":{\"duration\":0,\"redraw\":true},\"mode\":\"immediate\",\"fromcurrent\":true,\"transition\":{\"duration\":0,\"easing\":\"linear\"}}],\"label\":\"2015\",\"method\":\"animate\"},{\"args\":[[\"2016\"],{\"frame\":{\"duration\":0,\"redraw\":true},\"mode\":\"immediate\",\"fromcurrent\":true,\"transition\":{\"duration\":0,\"easing\":\"linear\"}}],\"label\":\"2016\",\"method\":\"animate\"},{\"args\":[[\"2017\"],{\"frame\":{\"duration\":0,\"redraw\":true},\"mode\":\"immediate\",\"fromcurrent\":true,\"transition\":{\"duration\":0,\"easing\":\"linear\"}}],\"label\":\"2017\",\"method\":\"animate\"},{\"args\":[[\"2018\"],{\"frame\":{\"duration\":0,\"redraw\":true},\"mode\":\"immediate\",\"fromcurrent\":true,\"transition\":{\"duration\":0,\"easing\":\"linear\"}}],\"label\":\"2018\",\"method\":\"animate\"},{\"args\":[[\"2019\"],{\"frame\":{\"duration\":0,\"redraw\":true},\"mode\":\"immediate\",\"fromcurrent\":true,\"transition\":{\"duration\":0,\"easing\":\"linear\"}}],\"label\":\"2019\",\"method\":\"animate\"},{\"args\":[[\"2020\"],{\"frame\":{\"duration\":0,\"redraw\":true},\"mode\":\"immediate\",\"fromcurrent\":true,\"transition\":{\"duration\":0,\"easing\":\"linear\"}}],\"label\":\"2020\",\"method\":\"animate\"},{\"args\":[[\"2021\"],{\"frame\":{\"duration\":0,\"redraw\":true},\"mode\":\"immediate\",\"fromcurrent\":true,\"transition\":{\"duration\":0,\"easing\":\"linear\"}}],\"label\":\"2021\",\"method\":\"animate\"},{\"args\":[[\"2022\"],{\"frame\":{\"duration\":0,\"redraw\":true},\"mode\":\"immediate\",\"fromcurrent\":true,\"transition\":{\"duration\":0,\"easing\":\"linear\"}}],\"label\":\"2022\",\"method\":\"animate\"}],\"x\":0.1,\"xanchor\":\"left\",\"y\":0,\"yanchor\":\"top\"}]},                        {\"responsive\": true}                    ).then(function(){\n",
       "                            Plotly.addFrames('dc699820-c6a5-4ec4-b2a8-668a02ba884a', [{\"data\":[{\"geo\":\"geo\",\"hovertemplate\":\"\\u003cb\\u003e%{hovertext}\\u003c\\u002fb\\u003e\\u003cbr\\u003e\\u003cbr\\u003eYear=2011\\u003cbr\\u003ePFOS (ug\\u002fkg)=%{marker.size}\\u003cbr\\u003eLatitude=%{lat}\\u003cbr\\u003eLongitude=%{lon}\\u003cextra\\u003e\\u003c\\u002fextra\\u003e\",\"hovertext\":[\"Erie\",\"Huron\",\"Michigan\",\"Ontario\",\"Superior\"],\"lat\":[42.416666666666664,44.083333333333336,44.75,43.416666666666664,47.416666666666664],\"legendgroup\":\"\",\"lon\":[-79.58333333333333,-82.75,-87.08333333333333,-77.91666666666667,-87.58333333333333],\"marker\":{\"color\":\"#636efa\",\"size\":[59.48036016306882,7.134971391513173,13.27191883923046,16.917974694719074,1.5455623326667227],\"sizemode\":\"area\",\"sizeref\":0.416254559515011,\"symbol\":\"circle\"},\"mode\":\"markers\",\"name\":\"\",\"showlegend\":false,\"type\":\"scattergeo\"}],\"name\":\"2011\"},{\"data\":[{\"geo\":\"geo\",\"hovertemplate\":\"\\u003cb\\u003e%{hovertext}\\u003c\\u002fb\\u003e\\u003cbr\\u003e\\u003cbr\\u003eYear=2012\\u003cbr\\u003ePFOS (ug\\u002fkg)=%{marker.size}\\u003cbr\\u003eLatitude=%{lat}\\u003cbr\\u003eLongitude=%{lon}\\u003cextra\\u003e\\u003c\\u002fextra\\u003e\",\"hovertext\":[\"Erie\",\"Huron\",\"Michigan\",\"Ontario\",\"Superior\"],\"lat\":[41.583333333333336,45.25,42.583333333333336,43.583333333333336,46.916666666666664],\"legendgroup\":\"\",\"lon\":[-82.91666666666667,-83.01666666666667,-86.41666666666667,-76.25,-90.41666666666667],\"marker\":{\"color\":\"#636efa\",\"size\":[45.924813001315286,10.728934020995249,9.931906634641743,43.02040878519169,1.66253364206793],\"sizemode\":\"area\",\"sizeref\":0.416254559515011,\"symbol\":\"circle\"},\"mode\":\"markers\",\"name\":\"\",\"showlegend\":false,\"type\":\"scattergeo\"}],\"name\":\"2012\"},{\"data\":[{\"geo\":\"geo\",\"hovertemplate\":\"\\u003cb\\u003e%{hovertext}\\u003c\\u002fb\\u003e\\u003cbr\\u003e\\u003cbr\\u003eYear=2013\\u003cbr\\u003ePFOS (ug\\u002fkg)=%{marker.size}\\u003cbr\\u003eLatitude=%{lat}\\u003cbr\\u003eLongitude=%{lon}\\u003cextra\\u003e\\u003c\\u002fextra\\u003e\",\"hovertext\":[\"Erie\",\"Huron\",\"Michigan\",\"Ontario\",\"Superior\"],\"lat\":[42.416666666666664,44.083333333333336,44.75,43.416666666666664,47.416666666666664],\"legendgroup\":\"\",\"lon\":[-79.58333333333333,-82.75,-87.08333333333333,-77.91666666666667,-87.58333333333333],\"marker\":{\"color\":\"#636efa\",\"size\":[166.5018238060044,35.775758688203595,39.967274473025704,65.56584292484733,3.9533828657576477],\"sizemode\":\"area\",\"sizeref\":0.416254559515011,\"symbol\":\"circle\"},\"mode\":\"markers\",\"name\":\"\",\"showlegend\":false,\"type\":\"scattergeo\"}],\"name\":\"2013\"},{\"data\":[{\"geo\":\"geo\",\"hovertemplate\":\"\\u003cb\\u003e%{hovertext}\\u003c\\u002fb\\u003e\\u003cbr\\u003e\\u003cbr\\u003eYear=2014\\u003cbr\\u003ePFOS (ug\\u002fkg)=%{marker.size}\\u003cbr\\u003eLatitude=%{lat}\\u003cbr\\u003eLongitude=%{lon}\\u003cextra\\u003e\\u003c\\u002fextra\\u003e\",\"hovertext\":[\"Erie\",\"Huron\",\"Michigan\",\"Ontario\",\"Superior\"],\"lat\":[41.583333333333336,45.25,42.583333333333336,43.583333333333336,46.916666666666664],\"legendgroup\":\"\",\"lon\":[-82.91666666666667,-83.01666666666667,-86.41666666666667,-76.25,-90.41666666666667],\"marker\":{\"color\":\"#636efa\",\"size\":[47.072885798200005,15.945323319599998,45.758477561999996,75.57197782120001,8.230618613839999],\"sizemode\":\"area\",\"sizeref\":0.416254559515011,\"symbol\":\"circle\"},\"mode\":\"markers\",\"name\":\"\",\"showlegend\":false,\"type\":\"scattergeo\"}],\"name\":\"2014\"},{\"data\":[{\"geo\":\"geo\",\"hovertemplate\":\"\\u003cb\\u003e%{hovertext}\\u003c\\u002fb\\u003e\\u003cbr\\u003e\\u003cbr\\u003eYear=2015\\u003cbr\\u003ePFOS (ug\\u002fkg)=%{marker.size}\\u003cbr\\u003eLatitude=%{lat}\\u003cbr\\u003eLongitude=%{lon}\\u003cextra\\u003e\\u003c\\u002fextra\\u003e\",\"hovertext\":[\"Erie\",\"Huron\",\"Michigan\",\"Ontario\",\"Superior\"],\"lat\":[42.416666666666664,44.083333333333336,44.75,43.416666666666664,47.416666666666664],\"legendgroup\":\"\",\"lon\":[-79.58333333333333,-82.75,-87.08333333333333,-77.91666666666667,-87.58333333333333],\"marker\":{\"color\":\"#636efa\",\"size\":[106.50401072705638,23.72776946063782,29.04213964086484,63.6782723642191,5.09222668840576],\"sizemode\":\"area\",\"sizeref\":0.416254559515011,\"symbol\":\"circle\"},\"mode\":\"markers\",\"name\":\"\",\"showlegend\":false,\"type\":\"scattergeo\"}],\"name\":\"2015\"},{\"data\":[{\"geo\":\"geo\",\"hovertemplate\":\"\\u003cb\\u003e%{hovertext}\\u003c\\u002fb\\u003e\\u003cbr\\u003e\\u003cbr\\u003eYear=2016\\u003cbr\\u003ePFOS (ug\\u002fkg)=%{marker.size}\\u003cbr\\u003eLatitude=%{lat}\\u003cbr\\u003eLongitude=%{lon}\\u003cextra\\u003e\\u003c\\u002fextra\\u003e\",\"hovertext\":[\"Erie\",\"Huron\",\"Michigan\",\"Ontario\",\"Superior\"],\"lat\":[41.583333333333336,45.25,42.583333333333336,43.583333333333336,46.916666666666664],\"legendgroup\":\"\",\"lon\":[-82.91666666666667,-83.01666666666667,-86.41666666666667,-76.25,-90.41666666666667],\"marker\":{\"color\":\"#636efa\",\"size\":[60.96402756281226,18.81993524512998,27.51629891898698,63.37337759390751,5.50376511479086],\"sizemode\":\"area\",\"sizeref\":0.416254559515011,\"symbol\":\"circle\"},\"mode\":\"markers\",\"name\":\"\",\"showlegend\":false,\"type\":\"scattergeo\"}],\"name\":\"2016\"},{\"data\":[{\"geo\":\"geo\",\"hovertemplate\":\"\\u003cb\\u003e%{hovertext}\\u003c\\u002fb\\u003e\\u003cbr\\u003e\\u003cbr\\u003eYear=2017\\u003cbr\\u003ePFOS (ug\\u002fkg)=%{marker.size}\\u003cbr\\u003eLatitude=%{lat}\\u003cbr\\u003eLongitude=%{lon}\\u003cextra\\u003e\\u003c\\u002fextra\\u003e\",\"hovertext\":[\"Erie\",\"Huron\",\"Michigan\",\"Ontario\",\"Superior\"],\"lat\":[42.416666666666664,44.083333333333336,44.75,43.416666666666664,47.416666666666664],\"legendgroup\":\"\",\"lon\":[-79.58333333333333,-82.75,-87.08333333333333,-77.91666666666667,-87.58333333333333],\"marker\":{\"color\":\"#636efa\",\"size\":[84.27198681385298,23.5002029809995,37.51482562936022,47.269438072915264,6.08547678128001],\"sizemode\":\"area\",\"sizeref\":0.416254559515011,\"symbol\":\"circle\"},\"mode\":\"markers\",\"name\":\"\",\"showlegend\":false,\"type\":\"scattergeo\"}],\"name\":\"2017\"},{\"data\":[{\"geo\":\"geo\",\"hovertemplate\":\"\\u003cb\\u003e%{hovertext}\\u003c\\u002fb\\u003e\\u003cbr\\u003e\\u003cbr\\u003eYear=2018\\u003cbr\\u003ePFOS (ug\\u002fkg)=%{marker.size}\\u003cbr\\u003eLatitude=%{lat}\\u003cbr\\u003eLongitude=%{lon}\\u003cextra\\u003e\\u003c\\u002fextra\\u003e\",\"hovertext\":[\"Erie\",\"Huron\",\"Michigan\",\"Ontario\",\"Superior\"],\"lat\":[41.583333333333336,45.25,42.583333333333336,43.583333333333336,46.916666666666664],\"legendgroup\":\"\",\"lon\":[-82.91666666666667,-83.01666666666667,-86.41666666666667,-76.25,-90.41666666666667],\"marker\":{\"color\":\"#636efa\",\"size\":[19.43037286514244,10.835256068319927,25.686815372323498,49.33552022220378,5.344240357257545],\"sizemode\":\"area\",\"sizeref\":0.416254559515011,\"symbol\":\"circle\"},\"mode\":\"markers\",\"name\":\"\",\"showlegend\":false,\"type\":\"scattergeo\"}],\"name\":\"2018\"},{\"data\":[{\"geo\":\"geo\",\"hovertemplate\":\"\\u003cb\\u003e%{hovertext}\\u003c\\u002fb\\u003e\\u003cbr\\u003e\\u003cbr\\u003eYear=2019\\u003cbr\\u003ePFOS (ug\\u002fkg)=%{marker.size}\\u003cbr\\u003eLatitude=%{lat}\\u003cbr\\u003eLongitude=%{lon}\\u003cextra\\u003e\\u003c\\u002fextra\\u003e\",\"hovertext\":[\"Erie\",\"Huron\",\"Michigan\",\"Ontario\",\"Superior\"],\"lat\":[42.416666666666664,44.083333333333336,44.75,43.416666666666664,47.416666666666664],\"legendgroup\":\"\",\"lon\":[-79.58333333333333,-82.75,-87.08333333333333,-77.91666666666667,-87.58333333333333],\"marker\":{\"color\":\"#636efa\",\"size\":[66.78409901896728,12.118695139202082,16.953038174734377,52.02089339707893,3.6168419908861282],\"sizemode\":\"area\",\"sizeref\":0.416254559515011,\"symbol\":\"circle\"},\"mode\":\"markers\",\"name\":\"\",\"showlegend\":false,\"type\":\"scattergeo\"}],\"name\":\"2019\"},{\"data\":[{\"geo\":\"geo\",\"hovertemplate\":\"\\u003cb\\u003e%{hovertext}\\u003c\\u002fb\\u003e\\u003cbr\\u003e\\u003cbr\\u003eYear=2020\\u003cbr\\u003ePFOS (ug\\u002fkg)=%{marker.size}\\u003cbr\\u003eLatitude=%{lat}\\u003cbr\\u003eLongitude=%{lon}\\u003cextra\\u003e\\u003c\\u002fextra\\u003e\",\"hovertext\":[\"Erie\",\"Huron\",\"Michigan\",\"Ontario\",\"Superior\"],\"lat\":[41.583333333333336,45.25,42.583333333333336,43.583333333333336,46.916666666666664],\"legendgroup\":\"\",\"lon\":[-82.91666666666667,-83.01666666666667,-86.41666666666667,-76.25,-90.41666666666667],\"marker\":{\"color\":\"#636efa\",\"size\":[19.6182547575984,18.9251614121577,34.46481287067828,32.032956062951044,5.554537094448269],\"sizemode\":\"area\",\"sizeref\":0.416254559515011,\"symbol\":\"circle\"},\"mode\":\"markers\",\"name\":\"\",\"showlegend\":false,\"type\":\"scattergeo\"}],\"name\":\"2020\"},{\"data\":[{\"geo\":\"geo\",\"hovertemplate\":\"\\u003cb\\u003e%{hovertext}\\u003c\\u002fb\\u003e\\u003cbr\\u003e\\u003cbr\\u003eYear=2021\\u003cbr\\u003ePFOS (ug\\u002fkg)=%{marker.size}\\u003cbr\\u003eLatitude=%{lat}\\u003cbr\\u003eLongitude=%{lon}\\u003cextra\\u003e\\u003c\\u002fextra\\u003e\",\"hovertext\":[\"Erie\",\"Huron\",\"Michigan\",\"Ontario\",\"Superior\"],\"lat\":[42.416666666666664,44.083333333333336,44.75,43.416666666666664,47.416666666666664],\"legendgroup\":\"\",\"lon\":[-79.58333333333333,-82.75,-87.08333333333333,-77.91666666666667,-87.58333333333333],\"marker\":{\"color\":\"#636efa\",\"size\":[76.15171,24.780228847,20.389071325,29.068372999999998,3.903428571428571],\"sizemode\":\"area\",\"sizeref\":0.416254559515011,\"symbol\":\"circle\"},\"mode\":\"markers\",\"name\":\"\",\"showlegend\":false,\"type\":\"scattergeo\"}],\"name\":\"2021\"},{\"data\":[{\"geo\":\"geo\",\"hovertemplate\":\"\\u003cb\\u003e%{hovertext}\\u003c\\u002fb\\u003e\\u003cbr\\u003e\\u003cbr\\u003eYear=2022\\u003cbr\\u003ePFOS (ug\\u002fkg)=%{marker.size}\\u003cbr\\u003eLatitude=%{lat}\\u003cbr\\u003eLongitude=%{lon}\\u003cextra\\u003e\\u003c\\u002fextra\\u003e\",\"hovertext\":[\"Erie\",\"Huron\",\"Michigan\",\"Ontario\",\"Superior\"],\"lat\":[41.583333333333336,45.25,42.583333333333336,43.583333333333336,46.916666666666664],\"legendgroup\":\"\",\"lon\":[-82.91666666666667,-83.01666666666667,-86.41666666666667,-76.25,-90.41666666666667],\"marker\":{\"color\":\"#636efa\",\"size\":[12.495904,20.139699999999998,22.727941372000004,21.479532000000003,4.8595],\"sizemode\":\"area\",\"sizeref\":0.416254559515011,\"symbol\":\"circle\"},\"mode\":\"markers\",\"name\":\"\",\"showlegend\":false,\"type\":\"scattergeo\"}],\"name\":\"2022\"}]);\n",
       "                        }).then(function(){\n",
       "                            \n",
       "var gd = document.getElementById('dc699820-c6a5-4ec4-b2a8-668a02ba884a');\n",
       "var x = new MutationObserver(function (mutations, observer) {{\n",
       "        var display = window.getComputedStyle(gd).display;\n",
       "        if (!display || display === 'none') {{\n",
       "            console.log([gd, 'removed!']);\n",
       "            Plotly.purge(gd);\n",
       "            observer.disconnect();\n",
       "        }}\n",
       "}});\n",
       "\n",
       "// Listen for the removal of the full notebook cells\n",
       "var notebookContainer = gd.closest('#notebook-container');\n",
       "if (notebookContainer) {{\n",
       "    x.observe(notebookContainer, {childList: true});\n",
       "}}\n",
       "\n",
       "// Listen for the clearing of the current output cell\n",
       "var outputEl = gd.closest('.output');\n",
       "if (outputEl) {{\n",
       "    x.observe(outputEl, {childList: true});\n",
       "}}\n",
       "\n",
       "                        })                };                });            </script>        </div>"
      ]
     },
     "metadata": {},
     "output_type": "display_data"
    }
   ],
   "source": [
    "import plotly.express as px\n",
    "\n",
    "fig = px.scatter_geo(fish_data_pfos_mean, lat='Latitude', lon='Longitude',\n",
    "                     hover_name=\"Lake\", size=selected_compound,\n",
    "                     animation_frame=\"Year\",\n",
    "                     scope='north america',\n",
    "                     title=\"Great Lakes\")\n",
    "fig.show()"
   ]
  },
  {
   "cell_type": "markdown",
   "metadata": {
    "tags": []
   },
   "source": [
    "This was a short example of how jupyter notebooks can be useful for your research, here are farther tutorials if you want to keep going:\\\n",
    "(1) https://www.dataquest.io/blog/jupyter-notebook-tutorial/ (basic introduction)\\\n",
    "(2) https://pandas.pydata.org/docs/getting_started/intro_tutorials/index.html (pandas)\\\n",
    "(3) https://www.w3schools.com/python/matplotlib_plotting.asp (matplotlib)\\\n",
    "(4) https://github.com/engineersCode/EngComp1_offtheground (general data science)\\\n",
    "and many more...\n",
    "\n",
    "Your account for URI's jupyter lab will be open until the end of summer semester. Download all relevant work beforehand and contact johanna.ganglbauer@uri.edu, if you want to use it in the long term.\n"
   ]
  }
 ],
 "metadata": {
  "kernelspec": {
   "display_name": "Python 3",
   "language": "python",
   "name": "python3"
  },
  "language_info": {
   "codemirror_mode": {
    "name": "ipython",
    "version": 3
   },
   "file_extension": ".py",
   "mimetype": "text/x-python",
   "name": "python",
   "nbconvert_exporter": "python",
   "pygments_lexer": "ipython3",
   "version": "3.6.8"
  }
 },
 "nbformat": 4,
 "nbformat_minor": 4
}
